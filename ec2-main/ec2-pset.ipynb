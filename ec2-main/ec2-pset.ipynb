{
 "cells": [
  {
   "cell_type": "markdown",
   "metadata": {},
   "source": [
    "# EC 2: PyTorch Exercises\n",
    "**Due: February 27, 9:30 AM**\n",
    "\n",
    "In this extra credit assignment, you will practice working with computation graphs in [PyTorch](https://pytorch.org/). You are strongly encouraged to do this extra credit assignment if:\n",
    "* you have never used PyTorch before or you have not used it in a long time\n",
    "* you have not taken DS-GA 1011 (Natural Language Processing with Representation Learning) and you are unsure of whether you have the necessary background for this course\n",
    "* you want some easy extra credit points.\n",
    "\n",
    "## Important: Read Before Starting\n",
    "\n",
    "In the following exercises, you will need to implement functions defined in the `pytorch_exercises` module. Please write all your code in the `pytorch_exercises.py` file. You should not submit this notebook with your solutions, and we will not grade it if you do. Please be aware that code written in a Jupyter notebook may run differently when copied into Python modules.\n",
    "\n",
    "This notebook comes with outputs for some, but not all, of the code cells. Thes outputs are the outputs that you should get **when all coding problems have been completed correctly**. You may obtain different results if you attempt to run the code cells before you have completed the coding problems, or if you have completed one or more coding problems incorrectly.\n",
    "\n",
    "## Problem 1: Setup (0 Points in Total)\n",
    "\n",
    "### Problem 1a: Install PyTorch (No Submission, 0 Points)\n",
    "\n",
    "The typical way to install PyTorch is to simply run `pip install torch` or `conda install pytorch`. Please refer to the [PyTorch website](https://pytorch.org/) for detailed instructions specific to your machine. You can also install PyTorch directly from this notebook by running one of the following two code cells; this is recommended if you are running this notebook on Google Colaboratory or some other web-based Jupyter notebook server."
   ]
  },
  {
   "cell_type": "code",
   "execution_count": null,
   "metadata": {},
   "outputs": [],
   "source": [
    "# Install PyTorch using pip (recommended if you're on Google Colaboratory)\n",
    "!pip install torch"
   ]
  },
  {
   "cell_type": "code",
   "execution_count": null,
   "metadata": {},
   "outputs": [],
   "source": [
    "# Install PyTorch using conda\n",
    "!conda install pytorch"
   ]
  },
  {
   "cell_type": "markdown",
   "metadata": {},
   "source": [
    "### Problem 1b: Import PyTorch (No Submission, 0 Points)\n",
    "\n",
    "Once you have installed PyTorch, please import the PyTorch library as follows. If the code cell below throws an error, then PyTorch has not been installed correctly and you need to repeat Problem 1a."
   ]
  },
  {
   "cell_type": "code",
   "execution_count": 2,
   "metadata": {},
   "outputs": [],
   "source": [
    "import numpy as np  # Also import NumPy\n",
    "import torch \n",
    "import torch.nn as nn"
   ]
  },
  {
   "cell_type": "markdown",
   "metadata": {},
   "source": [
    "PyTorch consists of several Python packages. The `torch` package implements automatic differentation (backpropagation), and it contains the `Tensor` data structure, which represents a computation graph node. The `torch.nn` package, by convention referred to as just `nn`, implements the PyTorch `Module`, which represents neural network architectures.\n",
    "\n",
    "## Problem 2: Tensors (16 Points in Total)\n",
    "\n",
    "In the following exercises, you will read snippets of code and describe what they do in plain English. You are free to consult the [PyTorch documentation](https://pytorch.org/docs/stable/index.html) as you complete these problems. You are also encouraged to run the code snippets in the Python console, in a Python script, or directly in the code cells below. Each code snippet assumes that all previous code snippets have already been run. Therefore, you must run the code snippets in the same order as they appear in the instructions.\n",
    "\n",
    "### Problem 2a: The PyTorch Tensor (Written, 2 Points)\n",
    "\n",
    "What kind of object does a tensor represent? What do the `.grad` and `.requires_grad` properties of a tensor represent?\n",
    "\n",
    "### Problem 2b: Tensor Data Types (Written, 3 Points)\n",
    "\n",
    "Please create some tensors using the following code."
   ]
  },
  {
   "cell_type": "code",
   "execution_count": 3,
   "metadata": {},
   "outputs": [],
   "source": [
    "a = np.array([[[1, 2, 3], [4, 5, 6]], [[7, 8, 9], [10, 11, 12]]])\n",
    "b = torch.Tensor(a)\n",
    "c = torch.LongTensor(a)\n",
    "d = torch.tensor(a)\n",
    "e = torch.tensor(a, dtype=torch.float) \n",
    "f = torch.Tensor(2, 3)"
   ]
  },
  {
   "cell_type": "code",
   "execution_count": 6,
   "metadata": {},
   "outputs": [
    {
     "data": {
      "text/plain": [
       "(torch.float32, torch.int64, torch.int64, torch.float32, torch.float32)"
      ]
     },
     "execution_count": 6,
     "metadata": {},
     "output_type": "execute_result"
    }
   ],
   "source": [
    "b.dtype, c.dtype, d.dtype, e.dtype, f.dtype"
   ]
  },
  {
   "cell_type": "code",
   "execution_count": 5,
   "metadata": {},
   "outputs": [
    {
     "data": {
      "text/plain": [
       "tensor([[ 0.0000e+00, -1.0842e-19, -2.0316e+18],\n",
       "        [ 1.5849e+29, -1.0842e-19,  1.0842e-19]])"
      ]
     },
     "execution_count": 5,
     "metadata": {},
     "output_type": "execute_result"
    }
   ],
   "source": [
    "torch.Tensor(2, 3)"
   ]
  },
  {
   "cell_type": "markdown",
   "metadata": {},
   "source": [
    "What is the difference between `b`, `c`, `d`, `e`, and `f`?\n",
    "\n",
    "- b is a copy of a, which is a tensor. \n",
    "- c is a tensor with the same values as a but as long tensor \n",
    "- d is a Tensor object \n",
    "- e is a copy of a but every element is a float \n",
    "- f is a randomly generated tensor with 2 and 3 elements in the first and second axis, where each element is sampled from \n",
    "\n",
    "\n",
    "### Problem 2c: Creating Tensors (Written, 3 Points)\n",
    "\n",
    "Please run the following code."
   ]
  },
  {
   "cell_type": "code",
   "execution_count": 3,
   "metadata": {},
   "outputs": [
    {
     "name": "stdout",
     "output_type": "stream",
     "text": [
      "tensor([[5., 5., 5.],\n",
      "        [5., 5., 5.]])\n",
      "tensor([[-0.2888, -1.8281, -1.1826],\n",
      "        [ 1.1874, -0.6576, -1.3923]])\n"
     ]
    }
   ],
   "source": [
    "print(torch.full((2, 3), 5)) \n",
    "print(torch.randn(2, 3))"
   ]
  },
  {
   "cell_type": "markdown",
   "metadata": {},
   "source": [
    "What do `torch.full` and `torch.randn` do?\n",
    "\n",
    "\n",
    "- torch.full generates a torch tensor with 2 and 3 elements in the first and second axis, where each element is a specific value\n",
    "\n",
    "- torch.rand generates a torch tensor with 2 and 3 elements in the first and second axis, where each element is sampled from N(0,1)\n",
    "\n",
    "\n",
    "### Problem 2d: Differentiation (Written, 3 Points)\n",
    "\n",
    "Please run the following code."
   ]
  },
  {
   "cell_type": "code",
   "execution_count": 4,
   "metadata": {},
   "outputs": [
    {
     "ename": "RuntimeError",
     "evalue": "only Tensors of floating point dtype can require gradients",
     "output_type": "error",
     "traceback": [
      "\u001b[0;31m---------------------------------------------------------------------------\u001b[0m",
      "\u001b[0;31mRuntimeError\u001b[0m                              Traceback (most recent call last)",
      "\u001b[0;32m<ipython-input-4-fa22589d67c8>\u001b[0m in \u001b[0;36m<module>\u001b[0;34m\u001b[0m\n\u001b[1;32m      1\u001b[0m \u001b[0mb\u001b[0m\u001b[0;34m.\u001b[0m\u001b[0mrequires_grad\u001b[0m \u001b[0;34m=\u001b[0m \u001b[0;32mTrue\u001b[0m\u001b[0;34m\u001b[0m\u001b[0;34m\u001b[0m\u001b[0m\n\u001b[0;32m----> 2\u001b[0;31m \u001b[0mc\u001b[0m\u001b[0;34m.\u001b[0m\u001b[0mrequires_grad\u001b[0m \u001b[0;34m=\u001b[0m \u001b[0;32mTrue\u001b[0m\u001b[0;34m\u001b[0m\u001b[0;34m\u001b[0m\u001b[0m\n\u001b[0m",
      "\u001b[0;31mRuntimeError\u001b[0m: only Tensors of floating point dtype can require gradients"
     ]
    }
   ],
   "source": [
    "b.requires_grad = True \n",
    "c.requires_grad = True"
   ]
  },
  {
   "cell_type": "markdown",
   "metadata": {},
   "source": [
    "One of these lines of code should work; the other should raise a `RuntimeError`. Why are PyTorch tensors designed this way?\n",
    "\n",
    "\n",
    "\n",
    "### Problem 2e: PyTorch vs. NumPy Operations (Written, 3 Points)\n",
    "\n",
    "Many NumPy array operations will work on PyTorch tensors, such as `+`, `-`, `*`, `/`, `@`, and `.T`. However, there are some minor differences between array operations and tensor operations. Please run the following lines of code on the array `a`."
   ]
  },
  {
   "cell_type": "code",
   "execution_count": 5,
   "metadata": {},
   "outputs": [
    {
     "name": "stdout",
     "output_type": "stream",
     "text": [
      "[[ 6 15]\n",
      " [24 33]]\n",
      "(2, 1, 2, 3)\n",
      "[[ 1  2  3]\n",
      " [ 4  5  6]\n",
      " [ 7  8  9]\n",
      " [10 11 12]]\n",
      "12\n"
     ]
    }
   ],
   "source": [
    "print(a.sum(axis=-1)) \n",
    "print(a[:, np.newaxis].shape) \n",
    "print(a.reshape(4, -1)) \n",
    "print(a.size)"
   ]
  },
  {
   "cell_type": "code",
   "execution_count": 10,
   "metadata": {},
   "outputs": [
    {
     "name": "stdout",
     "output_type": "stream",
     "text": [
      "tensor([[ 6., 15.],\n",
      "        [24., 33.]])\n",
      "torch.Size([2, 1, 2, 3])\n",
      "tensor([[ 1.,  2.,  3.],\n",
      "        [ 4.,  5.,  6.],\n",
      "        [ 7.,  8.,  9.],\n",
      "        [10., 11., 12.]])\n",
      "12\n"
     ]
    }
   ],
   "source": [
    "print(b.sum(axis=-1)) \n",
    "print(b.unsqueeze(1).shape) \n",
    "print(b.reshape(4, -1)) \n",
    "print(torch.numel(b))"
   ]
  },
  {
   "cell_type": "code",
   "execution_count": 9,
   "metadata": {},
   "outputs": [
    {
     "data": {
      "text/plain": [
       "torch.Size([2, 1, 2, 3])"
      ]
     },
     "execution_count": 9,
     "metadata": {},
     "output_type": "execute_result"
    }
   ],
   "source": []
  },
  {
   "cell_type": "markdown",
   "metadata": {},
   "source": [
    "What is the equivalent of the above code for tensors? Please give your answer as a 4-line code snippet that applies to `b` the tensor operations that are analogous to the array operations shown above for `a`.\n",
    "\n",
    "### Problem 2f: More Operations (Written, 2 Points)\n",
    "\n",
    "Please run the following code."
   ]
  },
  {
   "cell_type": "code",
   "execution_count": 9,
   "metadata": {},
   "outputs": [
    {
     "name": "stdout",
     "output_type": "stream",
     "text": [
      "tensor([[1., 1., 1., 5., 5., 5., 5.],\n",
      "        [1., 1., 1., 5., 5., 5., 5.]])\n"
     ]
    }
   ],
   "source": [
    "b = torch.ones(2, 3)\n",
    "c = torch.full((2, 4), 5)\n",
    "d = torch.cat([b, c], dim=-1)\n",
    "print(d)"
   ]
  },
  {
   "cell_type": "markdown",
   "metadata": {},
   "source": [
    "What do `torch.ones` and `torch.cat` do?\n",
    "\n",
    "- torch.ones generate a torch tensor with the input specified shape, but all of its values are one \n",
    "- torch.cat concantenates a list of torch tensors along the specified dimension\n",
    "\n",
    "## Problem 3: Modules (9 Points in Total)\n",
    "\n",
    "### Problem 3a: Chaining Layers Together (Written, 3 Points)\n",
    "\n",
    "Please run the following code."
   ]
  },
  {
   "cell_type": "code",
   "execution_count": 11,
   "metadata": {},
   "outputs": [],
   "source": [
    "lin1 = nn.Linear(2, 3)\n",
    "lin2 = nn.Linear(3, 4)\n",
    "model = nn.Sequential(lin1, nn.Tanh(), lin2)"
   ]
  },
  {
   "cell_type": "code",
   "execution_count": 14,
   "metadata": {},
   "outputs": [
    {
     "data": {
      "text/plain": [
       "torch.Size([7, 4])"
      ]
     },
     "execution_count": 14,
     "metadata": {},
     "output_type": "execute_result"
    }
   ],
   "source": [
    "model(torch.Tensor(7,2)).shape"
   ]
  },
  {
   "cell_type": "markdown",
   "metadata": {},
   "source": [
    "Describe `model`. What kind of neural network is it?\n",
    "\n",
    "- model is a MLP with 2 linear layer. \n",
    "\n",
    "### Problem 3b: Recurrent Neural Networks (Written, 3 Points)\n",
    "\n",
    "Various types of recurrent neural networks (RNNs) are implemented using the `nn.RNN`, `nn.LSTM`, and `nn.GRU` modules. Please run the following code."
   ]
  },
  {
   "cell_type": "code",
   "execution_count": 15,
   "metadata": {},
   "outputs": [
    {
     "name": "stdout",
     "output_type": "stream",
     "text": [
      "torch.Size([5, 7])\n",
      "torch.Size([5, 7, 20])\n",
      "torch.Size([5, 7, 9])\n"
     ]
    }
   ],
   "source": [
    "# Create some fake word embeddings\n",
    "embedding_layer = nn.Embedding(100, 20)\n",
    "\n",
    "# Create an LSTM\n",
    "lstm = nn.LSTM(input_size=20, hidden_size=9, batch_first=True)\n",
    "\n",
    "# Create a fake input\n",
    "x = torch.randint(100, (5, 7))\n",
    "\n",
    "# Run the LSTM\n",
    "embeddings = embedding_layer(x) \n",
    "h, _ = lstm(embeddings)\n",
    "\n",
    "print(x.shape) \n",
    "print(embeddings.shape) \n",
    "print(h.shape)"
   ]
  },
  {
   "cell_type": "markdown",
   "metadata": {},
   "source": [
    "Describe `x`, `embeddings`, and `h`. What do each of their dimensions represent? What does `batch_first=True` do on line 5?\n",
    "\n",
    "### Problem 3c: Calculating Gradients (Written, 3 Points)\n",
    "\n",
    "Please run the following code."
   ]
  },
  {
   "cell_type": "code",
   "execution_count": 9,
   "metadata": {},
   "outputs": [],
   "source": [
    "# Create a fake input and output\n",
    "x = torch.randn(5, 2)\n",
    "y = torch.randint(4, (5,))\n",
    "\n",
    "# Create a loss function\n",
    "loss_function = nn.CrossEntropyLoss()\n",
    "\n",
    "# Run the forward pass on model\n",
    "logits = model(x)\n",
    "loss = loss_function(logits , y)"
   ]
  },
  {
   "cell_type": "code",
   "execution_count": 10,
   "metadata": {},
   "outputs": [],
   "source": [
    "loss.backward()"
   ]
  },
  {
   "cell_type": "markdown",
   "metadata": {},
   "source": [
    "How would you run the backward pass for the (fake) mini-batch represented by the input `x` and labels `y`? \n",
    "\n",
    "**Hints:**\n",
    "* Your answer should consist of a single line of code.\n",
    "* After running your one line of code, the following loop should print the gradients of all of model’s parameters. None of the gradients should be `None`."
   ]
  }
 ],
 "metadata": {
  "kernelspec": {
   "display_name": "Python 3",
   "language": "python",
   "name": "python3"
  },
  "language_info": {
   "codemirror_mode": {
    "name": "ipython",
    "version": 3
   },
   "file_extension": ".py",
   "mimetype": "text/x-python",
   "name": "python",
   "nbconvert_exporter": "python",
   "pygments_lexer": "ipython3",
   "version": "3.7.4"
  },
  "vscode": {
   "interpreter": {
    "hash": "40d3a090f54c6569ab1632332b64b2c03c39dcf918b08424e98f38b5ae0af88f"
   }
  }
 },
 "nbformat": 4,
 "nbformat_minor": 5
}
