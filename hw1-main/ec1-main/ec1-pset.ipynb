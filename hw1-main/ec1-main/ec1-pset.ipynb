{
 "cells": [
  {
   "cell_type": "markdown",
   "id": "f79b5891",
   "metadata": {},
   "source": [
    "# EC 1: NumPy Exercises\n",
    "**Due: February 8, 9:30 AM**\n",
    "\n",
    "In this extra credit assignment, you will practice doing linear algebra using the [NumPy Python package](https://numpy.org/). You are strongly encouraged to do this extra credit assignment if:\n",
    "* you have never used NumPy before or you have not used it in a long time\n",
    "* you have not taken DS-GA 1011 (Natural Language Processing with Representation Learning) and you are unsure of whether you have the necessary background for this course\n",
    "* you want some easy extra credit points.\n",
    "\n",
    "## Important: Read Before Starting\n",
    "\n",
    "In the following exercises, you will need to implement functions defined in the `numpy_exercises` module. Please write all your code in the `numpy_exercises.py` file. You should not submit this notebook with your solutions, and we will not grade it if you do. Please be aware that code written in a Jupyter notebook may run differently when copied into Python modules.\n",
    "\n",
    "This notebook comes with outputs for some, but not all, of the code cells. Thes outputs are the outputs that you should get **when all coding problems have been completed correctly**. You may obtain different results if you attempt to run the code cells before you have completed the coding problems, or if you have completed one or more coding problems incorrectly.\n",
    "\n",
    "## Problem 1: Setup (0 Points in Total)\n",
    "\n",
    "### Problem 1a: Install NumPy (No Submission, 0 Points)\n",
    "\n",
    "For this course, you are strongly encouraged to download and install [Anaconda](https://www.anaconda.com), a free Python distribution that includes the `conda` package manager and comes with most of the packages you need (including NumPy) pre-installed. If you do not have Anaconda installed already, you should choose the latest version of the Individual Edition. Anaconda comes with a number of Python packages that are essential to working with neural networks, as well as the conda package manager.\n",
    "\n",
    "If you don't have enough disk space for Anaconda, you can choose to install [Miniconda](https://docs.conda.io/en/latest/miniconda.html) instead. Miniconda a version of Anaconda includes Python as well as the `pip` and `conda` package managers, but does not come with NumPy or other tools pre-installed. \n",
    "\n",
    "If you choose to use Miniconda or an existing Python installation,<a name=\"cite_ref-1\"></a>[<sup>[1]</sup>](#cite_note-1) please ensure you have the following installed.\n",
    "* Python 3.5 or a later version\n",
    "* The `pip` package manager or `conda` package manager. If you don’t have either package manager, please install pip by following the [official instructions](https://pip.pypa.io/en/stable/installation/).\n",
    "\n",
    "The typical way to install NumPy is to simply run `pip install numpy` or `conda install numpy`. Please refer to the [NumPy installation instructions](https://numpy.org/install/) for detailed instructions specific to your machine. You can also install NumPy directly from this notebook by running one of the following two code cells; this is recommended if you are running this notebook on Google Colaboratory or some other web-based Jupyter notebook server."
   ]
  },
  {
   "cell_type": "code",
   "execution_count": null,
   "id": "07fa6975",
   "metadata": {},
   "outputs": [],
   "source": [
    "# Install NumPy using pip (recommended if you're on Google Colaboratory)\n",
    "!pip install numpy"
   ]
  },
  {
   "cell_type": "code",
   "execution_count": null,
   "id": "7f248da7",
   "metadata": {},
   "outputs": [],
   "source": [
    "# Install NumPy using conda\n",
    "!conda install numpy"
   ]
  },
  {
   "cell_type": "markdown",
   "id": "bdee3eec",
   "metadata": {},
   "source": [
    "### Problem 1b: Import NumPy (No Submission, 0 Points)\n",
    "\n",
    "Once you have installed NumPy, please import the NumPy package as follows. If the code cell below throws an error, then NumPy has not been installed correctly and you need to repeat Problem 1a."
   ]
  },
  {
   "cell_type": "code",
   "execution_count": 1,
   "id": "976d1835",
   "metadata": {},
   "outputs": [],
   "source": [
    "import numpy as np"
   ]
  },
  {
   "cell_type": "markdown",
   "id": "e1f14f83",
   "metadata": {},
   "source": [
    "By convention, we typically refer to the NumPy package using the alias `np`.\n",
    "\n",
    "## Problem 2: Basic Operations (9 Points in Total)\n",
    "\n",
    "In the following exercises, you will read snippets of code and describe what they do in plain English. You are free to consult the [NumPy documentation](https://numpy.org/doc/stable/) as you complete these problems. You are also encouraged to run the code snippets in the Python console, in a Python script, or directly in the code cells below.<a name=\"cite_ref-2\"></a>[<sup>[2]</sup>](#cite_note-2) Each code snippet assumes that all previous code snippets have already been run. Therefore, you must run the code snippets in the same order as they appear in the instructions.\n",
    "\n",
    "### Problem 2a: The NumPy Array (Written, 1 Point)\n",
    "\n",
    "The heart of NumPy is the _array_, a data type that represents vectors and matrices. Please create some arrays using the following code."
   ]
  },
  {
   "cell_type": "code",
   "execution_count": 13,
   "id": "76b0f3c7",
   "metadata": {},
   "outputs": [],
   "source": [
    "a = np.array(1)\n",
    "b = np.array([1, 2, 3])\n",
    "c = np.array([[1, 2, 3], [4, 5, 6]])\n",
    "d = np.array([[[1, 2, 3], [4, 5, 6]],\n",
    "              [[7, 8, 9], [10, 11, 12]]])"
   ]
  },
  {
   "attachments": {},
   "cell_type": "markdown",
   "id": "a9c6fb2c",
   "metadata": {},
   "source": [
    "What mathematical objects are represented by `a`, `b`, `c`, and `d`?\n",
    "\n",
    "**Ans:** \n",
    "\n",
    "a is an integer\n",
    "\n",
    "b is a vector\n",
    "\n",
    "c is a matrix\n",
    " \n",
    "d is a tensor. \n",
    "\n",
    "### Problem 2b: Array Shapes (Written, 1 Point)\n",
    "\n",
    "An important property of an array is its shape. Please run the following code\n",
    "in order to inspect the shape of our arrays.\n",
    "\n"
   ]
  },
  {
   "cell_type": "code",
   "execution_count": 3,
   "id": "eab58def",
   "metadata": {},
   "outputs": [
    {
     "name": "stdout",
     "output_type": "stream",
     "text": [
      "()\n",
      "(3,)\n",
      "(2, 3)\n",
      "(2, 2, 3)\n"
     ]
    }
   ],
   "source": [
    "print(a.shape) \n",
    "print(b.shape) \n",
    "print(c.shape) \n",
    "print(d.shape)"
   ]
  },
  {
   "attachments": {},
   "cell_type": "markdown",
   "id": "3aa8e20c",
   "metadata": {},
   "source": [
    "What is the `.shape` of an array?\n",
    "\n",
    "**Ans:** obtains the dimensions of a python object. \n",
    "\n",
    "### Problem 2c: Indexing (Written, 1 Point)\n",
    "\n",
    "What do the following lines of code do? In your answer, refer to the lines by\n",
    "their line number (line 1, line 2, etc.).\n",
    "\n",
    "**Ans:**\n",
    "\n",
    "line 1: 1st object of c in the first dimension.\n",
    "\n",
    "line 2: 1st object of c in the second dimension. \n",
    "\n",
    "line 3: the last object of c in the first dimensioin. \n",
    "\n",
    "line 4: all of the objects of c starting from the 2nd object. \n",
    "\n",
    "line 5: adds another dimension to the array \n"
   ]
  },
  {
   "cell_type": "code",
   "execution_count": 4,
   "id": "1c452df5",
   "metadata": {},
   "outputs": [
    {
     "data": {
      "text/plain": [
       "array([[[1, 2, 3]],\n",
       "\n",
       "       [[4, 5, 6]]])"
      ]
     },
     "execution_count": 4,
     "metadata": {},
     "output_type": "execute_result"
    }
   ],
   "source": [
    "c[0]\n",
    "c[:, 0]\n",
    "c[-1]\n",
    "c[1:]\n",
    "c[:, np.newaxis]"
   ]
  },
  {
   "cell_type": "markdown",
   "id": "ada25da1",
   "metadata": {},
   "source": [
    "### Problem 2d: Arithmetic Operations (Written, 1 Point)\n",
    "\n",
    "Please run the following lines of code."
   ]
  },
  {
   "cell_type": "code",
   "execution_count": 8,
   "id": "cfd3ab26",
   "metadata": {},
   "outputs": [
    {
     "name": "stdout",
     "output_type": "stream",
     "text": [
      "[[ 2  4  6]\n",
      " [ 8 10 12]]\n",
      "[[0 0 0]\n",
      " [0 0 0]]\n",
      "[[ 1  4  9]\n",
      " [16 25 36]]\n",
      "[[1. 1. 1.]\n",
      " [1. 1. 1.]]\n"
     ]
    }
   ],
   "source": [
    "print(c + c)\n",
    "print(c - c) \n",
    "print(c * c) \n",
    "print(c / c)"
   ]
  },
  {
   "attachments": {},
   "cell_type": "markdown",
   "id": "39ba3a9c",
   "metadata": {},
   "source": [
    "What do `+`, `-`, `*`, and `/` do?\n",
    "\n",
    "`+`: element wise additiion\n",
    "`-`: element wise subtraction \n",
    "`*`: element wise multiplication\n",
    "`/`: element wise division\n",
    "\n",
    "### Problem 2e: Matrix Operations (Written, 1 Point)\n",
    "\n",
    "Please run the following code."
   ]
  },
  {
   "cell_type": "code",
   "execution_count": 9,
   "id": "7f8fdbd9",
   "metadata": {},
   "outputs": [
    {
     "name": "stdout",
     "output_type": "stream",
     "text": [
      "[[1 4]\n",
      " [2 5]\n",
      " [3 6]]\n",
      "[[14 32]\n",
      " [32 77]]\n"
     ]
    }
   ],
   "source": [
    "print(c.T)\n",
    "print(c @ c.T)"
   ]
  },
  {
   "attachments": {},
   "cell_type": "markdown",
   "id": "ac255668",
   "metadata": {},
   "source": [
    "What does `.T` do? What does `@` do?\n",
    "\n",
    "### Problem 2f: Batch Matrix Multiplication (Written, 1 Point)\n",
    "\n",
    "Please run the following code.\n",
    "\n",
    "`.T`: matrix transpose \n",
    "\n",
    "`@` matrix multiplication"
   ]
  },
  {
   "cell_type": "code",
   "execution_count": 15,
   "id": "ddb7928a",
   "metadata": {},
   "outputs": [
    {
     "name": "stdout",
     "output_type": "stream",
     "text": [
      "[[[ -26   -9  -17   31]\n",
      "  [ -74  -27  -62   67]]\n",
      "\n",
      " [[ -18   94 -112  -15]\n",
      "  [ -27  127 -157  -18]]]\n",
      "(2, 2, 4)\n"
     ]
    }
   ],
   "source": [
    "# Create a random array of shape (2, 3, 4)\n",
    "e = np.random.randint(-10, high=10, size=(2, 3, 4)) \n",
    "\n",
    "print(d @ e)\n",
    "print((d @ e).shape)"
   ]
  },
  {
   "cell_type": "code",
   "execution_count": 18,
   "id": "ac755dd8",
   "metadata": {},
   "outputs": [
    {
     "data": {
      "text/plain": [
       "((2, 2, 3), (2, 3, 4))"
      ]
     },
     "execution_count": 18,
     "metadata": {},
     "output_type": "execute_result"
    }
   ],
   "source": [
    "d.shape,e.shape"
   ]
  },
  {
   "cell_type": "code",
   "execution_count": 33,
   "id": "0719e461",
   "metadata": {},
   "outputs": [
    {
     "data": {
      "text/plain": [
       "(4, 2, 2, 2, 2, 4)"
      ]
     },
     "execution_count": 33,
     "metadata": {},
     "output_type": "execute_result"
    }
   ],
   "source": [
    "shapes1 = (4,2,2,2,2,3)\n",
    "shapes2 = (2,2,2,3,4)\n",
    "(np.arange(np.prod(shapes1)).reshape(shapes1) @ np.arange(np.prod(shapes2)).reshape(shapes2)).shape"
   ]
  },
  {
   "attachments": {},
   "cell_type": "markdown",
   "id": "b40f9738",
   "metadata": {},
   "source": [
    "What does `@` do when its arguments are 3-dimensional or higher-dimensional arrays?\n",
    "\n",
    "matrix wisee element multiplication occurs when there are 3 dimensions\n",
    "\n",
    "**Ans:** \n",
    "\n",
    "### Problem 2g: Axis-Wise Operations (Written, 1 Point)\n",
    "\n",
    "Please run the following code."
   ]
  },
  {
   "cell_type": "code",
   "execution_count": 11,
   "id": "2e03f38b",
   "metadata": {},
   "outputs": [
    {
     "name": "stdout",
     "output_type": "stream",
     "text": [
      "21\n",
      "[5 7 9]\n",
      "[ 6 15]\n",
      "[[ 6]\n",
      " [15]]\n"
     ]
    }
   ],
   "source": [
    "print(c.sum()) \n",
    "print(c.sum(axis=0))\n",
    "print(c.sum(axis=1)) \n",
    "print(c.sum(axis=1, keepdims=True))"
   ]
  },
  {
   "attachments": {},
   "cell_type": "markdown",
   "id": "cf92c511",
   "metadata": {},
   "source": [
    "What does `.sum()` do? What do the `axis` and `keepdims` keyword parameters do?\n",
    "\n",
    "`.sum()`: compute the sum of all elements in the array\n",
    "\n",
    "`axis`: determines the dimension which the elements are summed over \n",
    "\n",
    "`keepdims`: maintaiins the dimension of the original array so it can broadcast correctly. \n",
    "\n",
    "\n",
    "### Problem 2h: Reshaping (Written, 1 Point)\n",
    "\n",
    "Please run the following code."
   ]
  },
  {
   "cell_type": "code",
   "execution_count": 12,
   "id": "c13235a6",
   "metadata": {},
   "outputs": [
    {
     "name": "stdout",
     "output_type": "stream",
     "text": [
      "(2, 2, 3)\n",
      "[[[ 1  2  3]\n",
      "  [ 4  5  6]]\n",
      "\n",
      " [[ 7  8  9]\n",
      "  [10 11 12]]]\n",
      "(6, 2)\n",
      "[[ 1  2]\n",
      " [ 3  4]\n",
      " [ 5  6]\n",
      " [ 7  8]\n",
      " [ 9 10]\n",
      " [11 12]]\n"
     ]
    }
   ],
   "source": [
    "f = d.reshape(6, 2)\n",
    "print(d.shape)\n",
    "print(d)\n",
    "print(f.shape)\n",
    "print(f)"
   ]
  },
  {
   "attachments": {},
   "cell_type": "markdown",
   "id": "a979c78b",
   "metadata": {},
   "source": [
    "What does `.reshape` do? (You don't have to be very specific.)\n",
    "\n",
    "**Ans:** reorders the elements of the array so the new array has the specified shape\n",
    "\n",
    "### Problem 2i: Copying (Written, 1 Point)\n",
    "\n",
    "Please run the following code."
   ]
  },
  {
   "cell_type": "code",
   "execution_count": 13,
   "id": "9edc8f57",
   "metadata": {},
   "outputs": [
    {
     "name": "stdout",
     "output_type": "stream",
     "text": [
      "[[ 1  2]\n",
      " [ 3  4]\n",
      " [-1 -1]\n",
      " [ 7  8]\n",
      " [ 9 10]\n",
      " [11 12]]\n",
      "[[[ 1  2  3]\n",
      "  [ 4 -1 -1]]\n",
      "\n",
      " [[ 7  8  9]\n",
      "  [10 11 12]]]\n",
      "[[ 1  2]\n",
      " [ 3  4]\n",
      " [-2 -2]\n",
      " [ 7  8]\n",
      " [ 9 10]\n",
      " [11 12]]\n",
      "[[[ 1  2  3]\n",
      "  [ 4 -1 -1]]\n",
      "\n",
      " [[ 7  8  9]\n",
      "  [10 11 12]]]\n"
     ]
    }
   ],
   "source": [
    "# Without copying\n",
    "f[2] = -1\n",
    "print(f)\n",
    "print(d)\n",
    "\n",
    "# With copying\n",
    "g = f.copy()\n",
    "g[2] = -2\n",
    "print(g)\n",
    "print(d)"
   ]
  },
  {
   "attachments": {},
   "cell_type": "markdown",
   "id": "926eb3ab",
   "metadata": {},
   "source": [
    "What is the difference between lines 2–4 and 7–10? What does this tell us about `.reshape`? How does `.copy` change things?\n",
    "\n",
    "f is a variable that points to the same object as d. So when we modify f, we also modify d. \n",
    "However, `copy` generates a new array where each element is the same as the original. So modifying g doesn't change d. \n",
    "\n",
    "## Problem 3: Complex Operations (10 Points in Total)\n",
    "\n",
    "Next, you will implement some array operations that are frequently used in machine learning. In each of the problems below, **you must implement the operation described using only one line of code**. Your one line of code cannot exceed 76 characters in width, excluding indentations. For each problem, you must fill out one of the functions in the numpy exercise.py file by replacing pass with your own code. Please read the [docstring](https://peps.python.org/pep-0257/) of each function for guidance on what each function should do. You should consult the NumPy documentation and look for operations that will help you implement the functions.\n",
    "\n",
    "All functions you must implement for this problem are defined in the `numpy_exercises.py` file. To test them, please import these functions now by running the following code cell."
   ]
  },
  {
   "cell_type": "code",
   "execution_count": 3,
   "id": "e96144a7",
   "metadata": {},
   "outputs": [],
   "source": [
    "from numpy_exercises import sigmoid, zero_center, even_rows, mask, accuracy"
   ]
  },
  {
   "cell_type": "markdown",
   "id": "6310870d",
   "metadata": {},
   "source": [
    "To receive full credit, your code must behave as illustrated in the usage example for each problem.\n",
    "\n",
    "### Problem 3a: Sigmoid Function (Code, 2 Points)\n",
    "\n",
    "The _sigmoid_ function $\\sigma:\\mathbb{R} \\to \\mathbb{R}$ is given by\n",
    "$$\\sigma(x) = \\frac{1}{1 + e^{-x}}$$\n",
    "where $e = 2.718281828\\dots$.\n",
    "\n",
    "Please implement the `sigmoid` function, which applies $\\sigma$ to each item in an array."
   ]
  },
  {
   "cell_type": "code",
   "execution_count": 4,
   "id": "9310cccd",
   "metadata": {},
   "outputs": [
    {
     "data": {
      "text/plain": [
       "array([[0.26894142, 0.37754067, 0.5       ],\n",
       "       [0.73105858, 0.62245933, 0.5       ]])"
      ]
     },
     "execution_count": 4,
     "metadata": {},
     "output_type": "execute_result"
    }
   ],
   "source": [
    "# Usage example\n",
    "x = np.array([[-1, -.5, 0], \n",
    "              [1, .5, 0]])\n",
    "sigmoid(x)"
   ]
  },
  {
   "cell_type": "markdown",
   "id": "7aa337be",
   "metadata": {},
   "source": [
    "### Problem 3b: Zero-Centering (Code, 2 Points)\n",
    "\n",
    "Please implement the `zero_center` function, which takes a matrix (i.e., a 2D array) and subtracts the mean value from each row."
   ]
  },
  {
   "cell_type": "code",
   "execution_count": 5,
   "id": "a6cdbb5a",
   "metadata": {},
   "outputs": [
    {
     "data": {
      "text/plain": [
       "array([[-1.,  0.,  1.],\n",
       "       [-1.,  0.,  1.],\n",
       "       [-3.,  1.,  2.]])"
      ]
     },
     "execution_count": 5,
     "metadata": {},
     "output_type": "execute_result"
    }
   ],
   "source": [
    "# Usage example\n",
    "x = np.array([[1, 2, 3],\n",
    "              [4, 5, 6],\n",
    "              [-1, 3, 4]])\n",
    "zero_center(x)"
   ]
  },
  {
   "cell_type": "markdown",
   "id": "cb2006af",
   "metadata": {},
   "source": [
    "### Problem 3c: Select Even Rows (Code, 2 Points)\n",
    "\n",
    "Please implement the `even_rows` function, which will pick out the rows of an array with even index."
   ]
  },
  {
   "cell_type": "code",
   "execution_count": 6,
   "id": "33d6fb73",
   "metadata": {},
   "outputs": [
    {
     "data": {
      "text/plain": [
       "array([[1, 2, 3],\n",
       "       [7, 8, 9]])"
      ]
     },
     "execution_count": 6,
     "metadata": {},
     "output_type": "execute_result"
    }
   ],
   "source": [
    "# Usage example\n",
    "x = np.array([[1, 2, 3],\n",
    "              [4, 5, 6],\n",
    "              [7, 8, 9]])\n",
    "even_rows(x)"
   ]
  },
  {
   "cell_type": "markdown",
   "id": "b15cc88c",
   "metadata": {},
   "source": [
    "### Problem 3d: Masking (Code, 2 Points)\n",
    "\n",
    "Please implement the `mask` function, which will \"mask out\" a value from an array, replacing it with another value. Your code must apply to an array in-place; i.e., it must modify the entries of the original array rather than returning a new array."
   ]
  },
  {
   "cell_type": "code",
   "execution_count": 7,
   "id": "b7e0e0ad",
   "metadata": {},
   "outputs": [
    {
     "data": {
      "text/plain": [
       "array([[1, 0, 3],\n",
       "       [0, 1, 3],\n",
       "       [3, 0, 1]])"
      ]
     },
     "execution_count": 7,
     "metadata": {},
     "output_type": "execute_result"
    }
   ],
   "source": [
    "# Usage example\n",
    "x = np.array([[1, 2, 3], \n",
    "              [2, 1, 3], \n",
    "              [3, 2, 1]])\n",
    "mask(x, 2, replace_with=0)  # Replace all 2s with 0\n",
    "x"
   ]
  },
  {
   "cell_type": "markdown",
   "id": "5e3a4ecb",
   "metadata": {},
   "source": [
    "### Problem 3e: Compute Accuracy (Code, 2 Points)\n",
    "\n",
    "A _multi-class classifier_ is a function that takes an input and _classifies_ it into three or more possible _labels_. Typically, the output of a multi-class classifier is a matrix of _logit scores_, where each row corresponds to an input, each column corresponds corresponds to a label, and each logit score measures how \"confidently\" the model thinks each input belongs to each label.\n",
    "\n",
    "For instance, suppose a multi-class classifier returns the following logit scores.\n",
    "$$ \\begin{bmatrix} 1.5 & -.75 & .25 \\\\ -2.1 & -1.3 & -.5 \\\\ -.1 & 2.5 & 1.4 \\\\ .3 & -.01 & .15 \\end{bmatrix} $$\n",
    "For input 0 (the first row), the multi-class classifier assigns a confidence of $1.5$ to the label 0 (the first column), $-.75$ to the label 1, and $.25$ to the label 2. Since label 0 has the highest logit score in the row, the multi-class classifier's _predicted label_ for row 0 is label 0. Similarly, the predicted labels for inputs 1, 2, and 3 are 2, 1, and 0, respectively.\n",
    "\n",
    "Often times, we would like to measure how _accurate_ a multi-class classifier is. We do so by comparing the predicted labels for a set of inputs to a set of _gold labels_ provided by a human expert. The accuracy of the multi-class classifier is simply the proportion of examples for which the predicted labels match the gold labels. For instance, if a multi-class classifier predicts the labels 0, 2, 1, and 0 for four inputs whose gold labels are 0, 2, 1, and 2, respectively, then the accuracy of the classifier is .75.\n",
    "\n",
    "Please implement the `accuracy` function, which computes accuracy given a matrix of logit scores produced by a multi-class classifier and a vector of gold labels."
   ]
  },
  {
   "cell_type": "code",
   "execution_count": 8,
   "id": "7f95d99d",
   "metadata": {},
   "outputs": [
    {
     "data": {
      "text/plain": [
       "0.75"
      ]
     },
     "execution_count": 8,
     "metadata": {},
     "output_type": "execute_result"
    }
   ],
   "source": [
    "# Usage example\n",
    "logits = np.array([[1.5, -.75, .25],\n",
    "                   [-2.1, -1.3, -.5],\n",
    "                   [-.1, 2.5, 1.4],\n",
    "                   [.3, -.01, .15]])\n",
    "gold_labels = np.array([0, 2, 1, 2])\n",
    "accuracy(logits, gold_labels)"
   ]
  },
  {
   "cell_type": "markdown",
   "id": "529013c7",
   "metadata": {},
   "source": [
    "## Problem 4: Analysis of Matrix Multiplication (6 Points in Total)\n",
    "\n",
    "Python is a high-level programming language that is easy to learn and easy to read. The beauty and simplicity of Python comes at a cost, however: Python operations are notoriously slow compared to lower-level languages such as C. Fortunately, NumPy array operations implement many of the most common yet expensive linear algebra computations using optimized, pre-compiled C code. This means that the more you use NumPy operations, the more efficiently your Python code will run.\n",
    "\n",
    "In this exercise, you will compare the performance of NumPy’s matrix multiplication operator against a pure Python implementation of matrix multiplication. Please import the functions for this problem now."
   ]
  },
  {
   "cell_type": "code",
   "execution_count": 9,
   "id": "b837d0b9",
   "metadata": {},
   "outputs": [],
   "source": [
    "from numpy_exercises import matmul_pure_python, measure_time"
   ]
  },
  {
   "cell_type": "markdown",
   "id": "d6723072",
   "metadata": {},
   "source": [
    "### Problem 4a: Matrix Multiplication in Pure Python (Code, 3 Points)\n",
    "\n",
    "Please implement the `matmul_pure_python` function, which applies matrix multiplication to its two arguments. Assume that matrices are represented as lists of lists of numbers: each list of numbers is a row, and the full matrix is a list of rows. You may assume that your inputs are always valid matrices. **Do not use NumPy for this function!** \n",
    "\n",
    "As in Problem 3, the behavior of your code must match the following usage example."
   ]
  },
  {
   "cell_type": "code",
   "execution_count": 10,
   "id": "88e387be",
   "metadata": {},
   "outputs": [
    {
     "data": {
      "text/plain": [
       "[[3, -29, -81, 56], [61, -121, -93, -70]]"
      ]
     },
     "execution_count": 10,
     "metadata": {},
     "output_type": "execute_result"
    }
   ],
   "source": [
    "# Usage example\n",
    "a = [[-10, 8, 5],\n",
    "     [-6, -10, 3]]\n",
    "b = [[-1, 8, 7, -2],\n",
    "     [-4, 7, 3, 7],\n",
    "     [5, -1, -7, -4]]\n",
    "matmul_pure_python(a, b)"
   ]
  },
  {
   "attachments": {},
   "cell_type": "markdown",
   "id": "70062ecc",
   "metadata": {},
   "source": [
    "### Problem 4b: Comparison of Pure Python with NumPy (Written, 3 Points)\n",
    "\n",
    "Please run the function `measure_time` **after you have completed Problem 4a**. This function will generate two random matrices, multiply them using your pure Python implementation of matrix multiplication and using NumPy’s implementation of matrix multiplication, and report the running time of each implementation. \n",
    "\n",
    "In your submission, please answer the following questions.\n",
    "* What were the running times reported by `measure_time` function?\n",
    "* Which implementation was faster?\n",
    "* Please include any thoughts or comments you have about your results.\n",
    "\n",
    "**Ans:**\n",
    "\n",
    "Numpy's implementation is faster. This is because Numpy is mostly written in C or C++, and uses vectorized programming, which makes it faster than base python. "
   ]
  },
  {
   "cell_type": "code",
   "execution_count": 11,
   "id": "698f90e6",
   "metadata": {},
   "outputs": [
    {
     "name": "stdout",
     "output_type": "stream",
     "text": [
      "Matrix multiplication in pure Python took 4.387 seconds.\n",
      "Matrix multiplication in NumPy took 0.016 seconds.\n"
     ]
    }
   ],
   "source": [
    "# Please run this cell after you have completed Problem 4a.\n",
    "measure_time()"
   ]
  },
  {
   "cell_type": "markdown",
   "id": "834d031e",
   "metadata": {},
   "source": [
    "## Footnotes \n",
    "\n",
    "<a name=\"cite_note-1\"></a>1. [<sup>^</sup>](#cite_ref-1) This is not recommended unless you have an existing Python or Anaconda setup that you are already accustomed to using. If you are new to Python, you should install Anaconda, even if your computer (Mac OS, Linux, and other Unix-based operating systems) has a pre-installed version of Python.\n",
    "\n",
    "<a name=\"cite_note-2\"></a>2. [<sup>^</sup>](#cite_ref-1) You may find it helpful to run each code snippet one line at a time in the Python console."
   ]
  }
 ],
 "metadata": {
  "kernelspec": {
   "display_name": "Python 3",
   "language": "python",
   "name": "python3"
  },
  "language_info": {
   "codemirror_mode": {
    "name": "ipython",
    "version": 3
   },
   "file_extension": ".py",
   "mimetype": "text/x-python",
   "name": "python",
   "nbconvert_exporter": "python",
   "pygments_lexer": "ipython3",
   "version": "3.8.4rc1 (v3.8.4rc1:6c38841c08, Jun 30 2020, 10:08:47) \n[Clang 6.0 (clang-600.0.57)]"
  },
  "vscode": {
   "interpreter": {
    "hash": "aee8b7b246df8f9039afb4144a1f6fd8d2ca17a180786b69acc140d282b71a49"
   }
  }
 },
 "nbformat": 4,
 "nbformat_minor": 5
}
