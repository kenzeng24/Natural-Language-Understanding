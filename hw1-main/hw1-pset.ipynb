{
 "cells": [
  {
   "cell_type": "markdown",
   "metadata": {},
   "source": [
    "# HW 1: Intrinsic Evaluation of Word Embeddings\n",
    "**Due: February 8, 9:30 AM**\n",
    "\n",
    "In this homework assignment, you will implement the 3CosAdd evaluation method<a name=\"cite_ref-1\"></a>[<sup>[1]</sup>](#cite_note-1) for word embeddings described in Section 4 and Subsection 4.1 of [Mikolov et al. (2013)](https://arxiv.org/abs/1301.3781). Please read those sections of the paper now if you have not seen them before.\n",
    "\n",
    "The goal of 3CosAdd is to determine whether word embedding spaces exhibit algebraic relationships between analogous pairs of words. For instance, if we assume that the word _man_ has the same semantic relationship to the word _king_ as _woman_ does to _queen_ (in analogy notation, man : king :: woman : queen), then we might expect that\n",
    "$$\\overrightarrow{\\text{king}} - \\overrightarrow{\\text{man}} \\approx \\overrightarrow{\\text{queen}} - \\overrightarrow{\\text{woman}}$$\n",
    "where $\\overrightarrow{w}$ is the word embedding for word $w$. \n",
    "\n",
    "To measure the extent to which such relations exist, we use a test set that contains a number of analogies $w_1 : w_2 \\mathrel{::} w_3 : w_4$. For each analogy, we ask the following _analogy question_: given $w_1$, $w_2$, and $w_3$, if $w_1 : w_2 \\mathrel{::} w_3 : x$, then what is $x$? We consider the analogy question to have been _answered correctly_ if $\\overrightarrow{w_4}$ happens to be the word embedding vector with the greatest cosine similarity to $\\overrightarrow{w_2} - \\overrightarrow{w_1} + \\overrightarrow{w_3}$. The quality of the embedding space is then measured by its _analogy question accuracy_, given by the proportion of analogy questions that have been answered correctly.\n",
    "\n",
    "## Important: Read Before Starting\n",
    "\n",
    "In the following exercises, you will need to implement functions defined in the `embeddings` and `test_analogies` modules. **Please write all your code in the respective** `.py` **files for those two modules.** You should not submit this notebook with your solutions, and we will not grade it if you do. Please be aware that code written in a Jupyter notebook may run differently when copied into Python modules.\n",
    "\n",
    "The outputs shown in this notebook are the outputs that you should get **when all problems have been completed correctly**. You may obtain different results if you attempt to run the code cells before you have completed the problem set, or if you have completed one or more problems incorrectly.\n",
    "\n",
    "To begin, please run the following `import` statements."
   ]
  },
  {
   "cell_type": "code",
   "execution_count": 1,
   "metadata": {},
   "outputs": [],
   "source": [
    "import itertools\n",
    "import pandas as pd \n",
    "import numpy as np\n",
    "from typing import Dict\n",
    "from embeddings import Embeddings\n",
    "from test_analogies import (\n",
    "    cosine_sim, \n",
    "    get_closest_words, \n",
    "    load_analogies, \n",
    "    run_analogy_test,\n",
    ")"
   ]
  },
  {
   "cell_type": "markdown",
   "metadata": {},
   "source": [
    "## Problem 1: Load Embeddings (20 Points + 5 EC in Total)\n",
    "\n",
    "In this problem, you will implement the `embeddings.Embeddings` class, which is a container that holds a set of word embeddings. \n",
    "\n",
    "### Problem 1a: Inspect Class Definition and Data Files (No Submission, 0 Points)\n",
    "\n",
    "Please look at the existing code in `embeddings.py`. Take note of the data attributes and methods that have been defined. What is the purpose of the following attributes?\n",
    "* `words`\n",
    "* `indices`\n",
    "* `vectors` \n",
    "* `__len__`\n",
    "* `__contains__`\n",
    "\n",
    "Please also look at the three files `glove_50d.txt`, `glove_100d.txt`, and `glove_200d.txt` in the `data` folder. These files contain GloVe embeddings [(Pennington et al., 2014)](https://aclanthology.org/D14-1162/) of 50, 100, and 200 dimensions, trained on Wikipedia articles and the [Gigaword corpus](https://catalog.ldc.upenn.edu/LDC2011T07).<a name=\"cite_ref-2\"></a>[<sup>[2]</sup>](#cite_note-2) What is the format of these files?\n",
    "\n",
    "### Problem 1b: Implement the Embeddings Class (Code, 20 Points)\n",
    "\n",
    "The `Embeddings` class contains two methods that are not implemented: the class method `from_file` and the magic method `__getitem__`. Please implement those two methods, making sure to follow the specifications given in their docstrings. When both methods have been implemented, the `Embeddings` class needs to support the following functionalities."
   ]
  },
  {
   "cell_type": "code",
   "execution_count": 2,
   "metadata": {},
   "outputs": [],
   "source": [
    "# Load embeddings from a file\n",
    "embeddings = Embeddings.from_file(\"data/glove_50d.txt\")"
   ]
  },
  {
   "cell_type": "code",
   "execution_count": 3,
   "metadata": {},
   "outputs": [
    {
     "data": {
      "text/plain": [
       "5485"
      ]
     },
     "execution_count": 3,
     "metadata": {},
     "output_type": "execute_result"
    }
   ],
   "source": [
    "# Retrieve the number of vectors in the embeddings object\n",
    "len(embeddings)"
   ]
  },
  {
   "cell_type": "code",
   "execution_count": 4,
   "metadata": {},
   "outputs": [
    {
     "name": "stdout",
     "output_type": "stream",
     "text": [
      "True\n",
      "False\n"
     ]
    }
   ],
   "source": [
    "# Check whether or not a given word has a word embedding\n",
    "print(\"the\" in embeddings)\n",
    "print(\"ds-ga1012\" in embeddings)"
   ]
  },
  {
   "cell_type": "code",
   "execution_count": 5,
   "metadata": {},
   "outputs": [
    {
     "name": "stdout",
     "output_type": "stream",
     "text": [
      "vecs is an ndarray of shape (2, 50).\n",
      "Embedding for 'the': [ 4.1800e-01  2.4968e-01 -4.1242e-01  1.2170e-01  3.4527e-01 -4.4457e-02\n",
      " -4.9688e-01 -1.7862e-01 -6.6023e-04 -6.5660e-01  2.7843e-01 -1.4767e-01\n",
      " -5.5677e-01  1.4658e-01 -9.5095e-03  1.1658e-02  1.0204e-01 -1.2792e-01\n",
      " -8.4430e-01 -1.2181e-01 -1.6801e-02 -3.3279e-01 -1.5520e-01 -2.3131e-01\n",
      " -1.9181e-01 -1.8823e+00 -7.6746e-01  9.9051e-02 -4.2125e-01 -1.9526e-01\n",
      "  4.0071e+00 -1.8594e-01 -5.2287e-01 -3.1681e-01  5.9213e-04  7.4449e-03\n",
      "  1.7778e-01 -1.5897e-01  1.2041e-02 -5.4223e-02 -2.9871e-01 -1.5749e-01\n",
      " -3.4758e-01 -4.5637e-02 -4.4251e-01  1.8785e-01  2.7849e-03 -1.8411e-01\n",
      " -1.1514e-01 -7.8581e-01]\n",
      "Embedding for 'of': [ 0.70853    0.57088   -0.4716     0.18048    0.54449    0.72603\n",
      "  0.18157   -0.52393    0.10381   -0.17566    0.078852  -0.36216\n",
      " -0.11829   -0.83336    0.11917   -0.16605    0.061555  -0.012719\n",
      " -0.56623    0.013616   0.22851   -0.14396   -0.067549  -0.38157\n",
      " -0.23698   -1.7037    -0.86692   -0.26704   -0.2589     0.1767\n",
      "  3.8676    -0.1613    -0.13273   -0.68881    0.18444    0.0052464\n",
      " -0.33874   -0.078956   0.24185    0.36576   -0.34727    0.28483\n",
      "  0.075693  -0.062178  -0.38988    0.22902   -0.21617   -0.22562\n",
      " -0.093918  -0.80375  ]\n"
     ]
    }
   ],
   "source": [
    "# Index embeddings by a list\n",
    "vecs = embeddings[[\"the\", \"of\"]]\n",
    "print(\"vecs is an {} of shape {}.\".format(type(vecs).__name__, vecs.shape))\n",
    "print(\"Embedding for 'the': {}\".format(vecs[0]))\n",
    "print(\"Embedding for 'of': {}\".format(vecs[1]))"
   ]
  },
  {
   "attachments": {},
   "cell_type": "markdown",
   "metadata": {},
   "source": [
    "**Hints:** \n",
    "* `__getitem__` can be implemented using at most 1 line of code.\n",
    "* `from_file` can be implemented using at most 4 lines of code.\n",
    "* Some of the above functionalities are already implemented in the starter code.\n",
    "* Consider using the [`np.fromstring` function in NumPy](https://numpy.org/doc/stable/reference/generated/numpy.fromstring.html).\n",
    "* Please consult one or more of the following resources if you are confused by the Python terminology in this problem: \n",
    " * [Official Python Tutorial on Classes](https://docs.python.org/3/tutorial/classes.html)\n",
    " * [RealPython Tutorial on Object-Oriented Programming](https://realpython.com/python3-object-oriented-programming)\n",
    " * [RealPython Tutorial on Instance, Class, and Static Methods](https://realpython.com/instance-class-and-static-methods-demystified/)\n",
    "\n",
    "\n",
    "### Problem 1c: Extra Credit (Written, 5 Points)\n",
    "\n",
    "Look at the following two lines of code. The first line of code prints the word embeddings $\\overrightarrow{\\text{the}}$ and $\\overrightarrow{\\text{of}}$. The second line of code looks similar to the first line of code, but it does not work as intended. Why is this? \n",
    "\n",
    "**Note:** Depending on how you've implemented the two blank methods in `Embeddings`, it's possible that your code may not behave as shown below. If that's the case, what do you think is the difference between your code and Sophie's code that would result in this discrepancy? \n",
    "\n",
    "(Regardless of what happens with the code below, you will receive full credit for Problem 1b as long as all the functional requirements shown above are implemented correctly.)\n",
    "\n",
    "*ans*: The input to the function `__getitem__` is assumed to be iterable of strings. So when you pass in a single string, it can't iterate over multiple strings, so it instead iterates over each character in the string."
   ]
  },
  {
   "cell_type": "code",
   "execution_count": 5,
   "metadata": {},
   "outputs": [
    {
     "name": "stdout",
     "output_type": "stream",
     "text": [
      "[[ 4.1800e-01  2.4968e-01 -4.1242e-01  1.2170e-01  3.4527e-01 -4.4457e-02\n",
      "  -4.9688e-01 -1.7862e-01 -6.6023e-04 -6.5660e-01  2.7843e-01 -1.4767e-01\n",
      "  -5.5677e-01  1.4658e-01 -9.5095e-03  1.1658e-02  1.0204e-01 -1.2792e-01\n",
      "  -8.4430e-01 -1.2181e-01 -1.6801e-02 -3.3279e-01 -1.5520e-01 -2.3131e-01\n",
      "  -1.9181e-01 -1.8823e+00 -7.6746e-01  9.9051e-02 -4.2125e-01 -1.9526e-01\n",
      "   4.0071e+00 -1.8594e-01 -5.2287e-01 -3.1681e-01  5.9213e-04  7.4449e-03\n",
      "   1.7778e-01 -1.5897e-01  1.2041e-02 -5.4223e-02 -2.9871e-01 -1.5749e-01\n",
      "  -3.4758e-01 -4.5637e-02 -4.4251e-01  1.8785e-01  2.7849e-03 -1.8411e-01\n",
      "  -1.1514e-01 -7.8581e-01]\n",
      " [ 7.0853e-01  5.7088e-01 -4.7160e-01  1.8048e-01  5.4449e-01  7.2603e-01\n",
      "   1.8157e-01 -5.2393e-01  1.0381e-01 -1.7566e-01  7.8852e-02 -3.6216e-01\n",
      "  -1.1829e-01 -8.3336e-01  1.1917e-01 -1.6605e-01  6.1555e-02 -1.2719e-02\n",
      "  -5.6623e-01  1.3616e-02  2.2851e-01 -1.4396e-01 -6.7549e-02 -3.8157e-01\n",
      "  -2.3698e-01 -1.7037e+00 -8.6692e-01 -2.6704e-01 -2.5890e-01  1.7670e-01\n",
      "   3.8676e+00 -1.6130e-01 -1.3273e-01 -6.8881e-01  1.8444e-01  5.2464e-03\n",
      "  -3.3874e-01 -7.8956e-02  2.4185e-01  3.6576e-01 -3.4727e-01  2.8483e-01\n",
      "   7.5693e-02 -6.2178e-02 -3.8988e-01  2.2902e-01 -2.1617e-01 -2.2562e-01\n",
      "  -9.3918e-02 -8.0375e-01]]\n"
     ]
    },
    {
     "ename": "KeyError",
     "evalue": "'h'",
     "output_type": "error",
     "traceback": [
      "\u001b[0;31m---------------------------------------------------------------------------\u001b[0m",
      "\u001b[0;31mKeyError\u001b[0m                                  Traceback (most recent call last)",
      "\u001b[0;32m<ipython-input-5-8911cb1be302>\u001b[0m in \u001b[0;36m<module>\u001b[0;34m\u001b[0m\n\u001b[1;32m      3\u001b[0m \u001b[0;34m\u001b[0m\u001b[0m\n\u001b[1;32m      4\u001b[0m \u001b[0;31m# This line of code doesn't work:\u001b[0m\u001b[0;34m\u001b[0m\u001b[0;34m\u001b[0m\u001b[0;34m\u001b[0m\u001b[0m\n\u001b[0;32m----> 5\u001b[0;31m \u001b[0mprint\u001b[0m\u001b[0;34m(\u001b[0m\u001b[0membeddings\u001b[0m\u001b[0;34m[\u001b[0m\u001b[0;34m\"the\"\u001b[0m\u001b[0;34m]\u001b[0m\u001b[0;34m)\u001b[0m\u001b[0;34m\u001b[0m\u001b[0;34m\u001b[0m\u001b[0m\n\u001b[0m",
      "\u001b[0;32m~/Desktop/College/DSCI/NLU/hw1-main/embeddings.py\u001b[0m in \u001b[0;36m__getitem__\u001b[0;34m(self, words)\u001b[0m\n\u001b[1;32m     43\u001b[0m             \u001b[0;32mfor\u001b[0m \u001b[0meach\u001b[0m \u001b[0mi\u001b[0m\u001b[0;34m,\u001b[0m \u001b[0mthe\u001b[0m \u001b[0mith\u001b[0m \u001b[0mrow\u001b[0m \u001b[0;32mis\u001b[0m \u001b[0mthe\u001b[0m \u001b[0membedding\u001b[0m \u001b[0;32mfor\u001b[0m \u001b[0mwords\u001b[0m\u001b[0;34m[\u001b[0m\u001b[0mi\u001b[0m\u001b[0;34m]\u001b[0m\u001b[0;34m\u001b[0m\u001b[0;34m\u001b[0m\u001b[0m\n\u001b[1;32m     44\u001b[0m         \"\"\"\n\u001b[0;32m---> 45\u001b[0;31m         \u001b[0;32mreturn\u001b[0m \u001b[0mself\u001b[0m\u001b[0;34m.\u001b[0m\u001b[0mvectors\u001b[0m\u001b[0;34m[\u001b[0m\u001b[0;34m[\u001b[0m\u001b[0mself\u001b[0m\u001b[0;34m.\u001b[0m\u001b[0mindices\u001b[0m\u001b[0;34m[\u001b[0m\u001b[0mword\u001b[0m\u001b[0;34m]\u001b[0m \u001b[0;32mfor\u001b[0m \u001b[0mword\u001b[0m \u001b[0;32min\u001b[0m \u001b[0mwords\u001b[0m\u001b[0;34m]\u001b[0m\u001b[0;34m]\u001b[0m\u001b[0;34m\u001b[0m\u001b[0;34m\u001b[0m\u001b[0m\n\u001b[0m\u001b[1;32m     46\u001b[0m \u001b[0;34m\u001b[0m\u001b[0m\n\u001b[1;32m     47\u001b[0m \u001b[0;34m\u001b[0m\u001b[0m\n",
      "\u001b[0;32m~/Desktop/College/DSCI/NLU/hw1-main/embeddings.py\u001b[0m in \u001b[0;36m<listcomp>\u001b[0;34m(.0)\u001b[0m\n\u001b[1;32m     43\u001b[0m             \u001b[0;32mfor\u001b[0m \u001b[0meach\u001b[0m \u001b[0mi\u001b[0m\u001b[0;34m,\u001b[0m \u001b[0mthe\u001b[0m \u001b[0mith\u001b[0m \u001b[0mrow\u001b[0m \u001b[0;32mis\u001b[0m \u001b[0mthe\u001b[0m \u001b[0membedding\u001b[0m \u001b[0;32mfor\u001b[0m \u001b[0mwords\u001b[0m\u001b[0;34m[\u001b[0m\u001b[0mi\u001b[0m\u001b[0;34m]\u001b[0m\u001b[0;34m\u001b[0m\u001b[0;34m\u001b[0m\u001b[0m\n\u001b[1;32m     44\u001b[0m         \"\"\"\n\u001b[0;32m---> 45\u001b[0;31m         \u001b[0;32mreturn\u001b[0m \u001b[0mself\u001b[0m\u001b[0;34m.\u001b[0m\u001b[0mvectors\u001b[0m\u001b[0;34m[\u001b[0m\u001b[0;34m[\u001b[0m\u001b[0mself\u001b[0m\u001b[0;34m.\u001b[0m\u001b[0mindices\u001b[0m\u001b[0;34m[\u001b[0m\u001b[0mword\u001b[0m\u001b[0;34m]\u001b[0m \u001b[0;32mfor\u001b[0m \u001b[0mword\u001b[0m \u001b[0;32min\u001b[0m \u001b[0mwords\u001b[0m\u001b[0;34m]\u001b[0m\u001b[0;34m]\u001b[0m\u001b[0;34m\u001b[0m\u001b[0;34m\u001b[0m\u001b[0m\n\u001b[0m\u001b[1;32m     46\u001b[0m \u001b[0;34m\u001b[0m\u001b[0m\n\u001b[1;32m     47\u001b[0m \u001b[0;34m\u001b[0m\u001b[0m\n",
      "\u001b[0;31mKeyError\u001b[0m: 'h'"
     ]
    }
   ],
   "source": [
    "# This line of code works:\n",
    "print(embeddings[\"the\", \"of\"])\n",
    "\n",
    "# This line of code doesn't work:\n",
    "print(embeddings[\"the\"])"
   ]
  },
  {
   "cell_type": "markdown",
   "metadata": {},
   "source": [
    "## Problem 2: Load Testing Data (20 Points in Total)\n",
    "\n",
    "In this problem, you will load and deserialize the analogies dataset used to run the 3CosAdd test.\n",
    "\n",
    "### Problem 2a: Inspect Data File (No Submission, 0 Points)\n",
    "\n",
    "Please inspect the file `data/analogies.txt`, which contains all the analogies used in the 3CosAdd test. What is the format of this file? Notice that the analogies are organized into blocks. Each block contains analogies belonging to a different _relationship type_, and the first row of each block contains the name of the relationship type for that block.\n",
    "\n",
    "### Problem 2b: Implement Data Loading Script (Code, 20 Points)\n",
    "\n",
    "Next, you will implement the function `load_analogies` in the `test_analogies` module. Your code needs to parse the `data/analogies.txt` file and return the data in the form of a `dict`. \n",
    "\n",
    "To understand the format of this dict, please look at lines 43–47 of `test_analogies.py`.<a name=\"cite_ref-3\"></a>[<sup>[3]</sup>](#cite_note-3) This part of the code defines the [type alias](https://docs.python.org/3/library/typing.html#type-aliases) `AnalogiesDataset`, which describes the format in which your code should organize the data. As shown in the following snippet, the keys of an `AnalogiesDataset` should be the names of all the relation types in the data file."
   ]
  },
  {
   "cell_type": "code",
   "execution_count": 2,
   "metadata": {},
   "outputs": [
    {
     "data": {
      "text/plain": [
       "dict_keys(['capital-common-countries', 'capital-world', 'currency', 'city-in-state', 'family', 'gram1-adjective-to-adverb', 'gram2-opposite', 'gram3-comparative', 'gram4-superlative', 'gram5-present-participle', 'gram6-nationality-adjective', 'gram7-past-tense', 'gram8-plural', 'gram9-plural-verbs'])"
      ]
     },
     "execution_count": 2,
     "metadata": {},
     "output_type": "execute_result"
    }
   ],
   "source": [
    "test_data = load_analogies(\"data/analogies.txt\")\n",
    "test_data.keys()"
   ]
  },
  {
   "cell_type": "markdown",
   "metadata": {},
   "source": [
    "For each relation type, the corresponding value in the `AnalogiesDataset` should be a list containing all the analogies under that relation type."
   ]
  },
  {
   "cell_type": "code",
   "execution_count": 3,
   "metadata": {},
   "outputs": [
    {
     "name": "stdout",
     "output_type": "stream",
     "text": [
      "('abuja', 'nigeria', 'accra', 'ghana')\n",
      "('abuja', 'nigeria', 'algiers', 'algeria')\n",
      "('abuja', 'nigeria', 'amman', 'jordan')\n",
      "('abuja', 'nigeria', 'ankara', 'turkey')\n",
      "('abuja', 'nigeria', 'antananarivo', 'madagascar')\n",
      "('abuja', 'nigeria', 'apia', 'samoa')\n",
      "('abuja', 'nigeria', 'ashgabat', 'turkmenistan')\n",
      "('abuja', 'nigeria', 'asmara', 'eritrea')\n",
      "('abuja', 'nigeria', 'astana', 'kazakhstan')\n",
      "('abuja', 'nigeria', 'athens', 'greece')\n"
     ]
    }
   ],
   "source": [
    "# Show the first 10 analogies for the relation type capital-world\n",
    "for analogy in test_data[\"capital-world\"][:10]:\n",
    "    print(analogy)"
   ]
  },
  {
   "cell_type": "code",
   "execution_count": 4,
   "metadata": {},
   "outputs": [
    {
     "name": "stdout",
     "output_type": "stream",
     "text": [
      "capital-common-countries: ('athens', 'greece', 'baghdad', 'iraq'), 505 more analogies...\n",
      "capital-world: ('abuja', 'nigeria', 'accra', 'ghana'), 4523 more analogies...\n",
      "currency: ('algeria', 'dinar', 'angola', 'kwanza'), 865 more analogies...\n",
      "city-in-state: ('chicago', 'illinois', 'houston', 'texas'), 2466 more analogies...\n",
      "family: ('boy', 'girl', 'brother', 'sister'), 505 more analogies...\n",
      "gram1-adjective-to-adverb: ('amazing', 'amazingly', 'apparent', 'apparently'), 991 more analogies...\n",
      "gram2-opposite: ('acceptable', 'unacceptable', 'aware', 'unaware'), 811 more analogies...\n",
      "gram3-comparative: ('bad', 'worse', 'big', 'bigger'), 1331 more analogies...\n",
      "gram4-superlative: ('bad', 'worst', 'big', 'biggest'), 1121 more analogies...\n",
      "gram5-present-participle: ('code', 'coding', 'dance', 'dancing'), 1055 more analogies...\n",
      "gram6-nationality-adjective: ('albania', 'albanian', 'argentina', 'argentinean'), 1598 more analogies...\n",
      "gram7-past-tense: ('dancing', 'danced', 'decreasing', 'decreased'), 1559 more analogies...\n",
      "gram8-plural: ('banana', 'bananas', 'bird', 'birds'), 1331 more analogies...\n",
      "gram9-plural-verbs: ('decrease', 'decreases', 'describe', 'describes'), 869 more analogies...\n"
     ]
    }
   ],
   "source": [
    "# Peek at the analogies under each relation type\n",
    "for k, v in test_data.items():\n",
    "    print(\"{}: {}, {} more analogies...\".format(k, v[0], len(v) - 1))"
   ]
  },
  {
   "cell_type": "markdown",
   "metadata": {},
   "source": [
    "To receive full credit, the output of your function must satisfy the following requirements.\n",
    "* The keys of the `dict` must exactly match the names of the relation types listed in the `data/analogies.txt` data file. The keys should not include the initial `: ` in the names of the relation types, and they should not contain any leading or trailing whitespace.\n",
    "* Each analogy must be represented as a `tuple` or `list` of exactly 4 strings.\n",
    "\n",
    "## Problem 3: Implement 3CosAdd (40 Points in Total)\n",
    "\n",
    "For this problem, you will implement code that answers analogy questions and computes the analogy question accuracy attained by a set of word embeddings on each relation type.\n",
    "\n",
    "### Problem 3a: Inspect test_analogies Module (No Submission, 0 Points)\n",
    "\n",
    "You will now implement all the functions defined in the `test_analogies` module apart from `load_analogies`, which you should have implemented in Problem 2b. There are three functions in total:\n",
    "* `cosine_sim`, which computes cosine similarity\n",
    "* `get_closest_words`, which finds the closest words (in terms of cosine similarity) to a given vector in the embedding space\n",
    "* `run_analogy_test`, which runs 3CosAdd on a set of word embeddings (represented by the `Embeddings` object).\n",
    "\n",
    "### Problem 3b: Calculate Cosine Similarity (Code, 10 Points)\n",
    "\n",
    "Please implement the function `cosine_sim`, referring to the docstring and the following code snippet for guidance. The function should take two matrices of row vectors and compute the cosine similarity between every row of the first matrix and every row of the second matrix. Recall that the cosine similarity between two vectors $\\mathbf{u}$ and $\\mathbf{v}$ is given by\n",
    "$$ \\cos(\\mathbf{u}, \\mathbf{v}) = \\frac{\\mathbf{u}^\\top\\mathbf{v}}{\\lVert \\mathbf{u} \\rVert \\cdot \\lVert \\mathbf{v} \\rVert}\\text{;} $$\n",
    "in other words, it is the dot product of $\\mathbf{u}$ and $\\mathbf{v}$ when they are normalized to unit length.\n",
    "\n",
    "To receive full credit, your code must support the following usage. After line 8 is executed, `sims[i, j]` must contain the cosine similarity between `a[i]` and `b[j]` for each `i` and `j`."
   ]
  },
  {
   "cell_type": "code",
   "execution_count": 9,
   "metadata": {},
   "outputs": [
    {
     "name": "stdout",
     "output_type": "stream",
     "text": [
      "All Cosine Similarities:\n",
      "[[ 0.01415985  0.64383657  0.33316909]\n",
      " [-0.49852156 -0.27163371 -0.2392439 ]]\n",
      "\n",
      "cos([ 2  5  9 10], [-6  7  1 -3]) = 0.014159846508095774\n",
      "cos([ 2  5  9 10], [-3  7  9  0]) = 0.6438365650063621\n",
      "cos([ 2  5  9 10], [-6 10 10 -5]) = 0.3331690892566788\n",
      "cos([ 0 -8  3 -3], [-6  7  1 -3]) = -0.49852156261828706\n",
      "cos([ 0 -8  3 -3], [-3  7  9  0]) = -0.2716337139226147\n",
      "cos([ 0 -8  3 -3], [-6 10 10 -5]) = -0.23924389509855976\n"
     ]
    }
   ],
   "source": [
    "a = np.array([[2, 5, 9, 10], \n",
    "              [0, -8, 3, -3]])\n",
    "b = np.array([[-6, 7, 1, -3],\n",
    "              [-3, 7, 9, 0],\n",
    "              [-6, 10, 10, -5]])\n",
    "\n",
    "# Full output of cosine_sim\n",
    "sims = cosine_sim(a, b)\n",
    "print(\"All Cosine Similarities:\\n{}\\n\".format(sims))\n",
    "\n",
    "# Rows correspond to rows of a, columns correspond to rows of b\n",
    "for i, j in itertools.product(range(len(a)), range(len(b))):\n",
    "    print(\"cos({}, {}) = {}\".format(a[i], b[j], sims[i, j]))"
   ]
  },
  {
   "cell_type": "markdown",
   "metadata": {},
   "source": [
    "**Hint:** `cosine_sim` can be implemented in **at most 3 lines of code**. The performance of your code may suffer if it is substantially longer than this!\n",
    "\n",
    "### Problem 3c: Find Neighboring Words (Code, 10 Points)\n",
    "\n",
    "Next, please implement the function `get_closest_words`. This function finds the `k` closest words to one or more given vector(s) in the embedding space. The given vectors do not have to be valid word embeddings (though they do need to have the same dimension as the word embeddings), and the `k` closest words do not have to be in order.\n",
    "\n",
    "For example, this is how you would find the 4 nearest neighbors of _king_, _man_, and _woman_ in the embedding space. (Note that each word is one of its own 4 nearest neighbors.)"
   ]
  },
  {
   "cell_type": "code",
   "execution_count": 5,
   "metadata": {},
   "outputs": [
    {
     "data": {
      "text/plain": [
       "[['king', 'prince', 'queen', 'ii'],\n",
       " ['man', 'woman', 'boy', 'another'],\n",
       " ['woman', 'girl', 'man', 'mother']]"
      ]
     },
     "execution_count": 5,
     "metadata": {},
     "output_type": "execute_result"
    }
   ],
   "source": [
    "try:  # Load embeddings if they haven't been loaded yet\n",
    "    embeddings\n",
    "except NameError:\n",
    "    embeddings = Embeddings.from_file(\"data/glove_50d.txt\")\n",
    "    \n",
    "# Find the neighbors of \"king,\" \"man,\" and \"woman\"\n",
    "vecs = embeddings[\"king\", \"man\", \"woman\"]\n",
    "get_closest_words(embeddings, vecs, k=4)"
   ]
  },
  {
   "cell_type": "markdown",
   "metadata": {},
   "source": [
    "The output above is interpreted as follows:\n",
    "* the 4 nearest neighbors of _king_ are _ii_, _king_, _queen_, and _prince_\n",
    "* the 4 nearest neighbors of _man_ are _man_, _woman_, _boy_, and _another_\n",
    "* the 4 nearest neighbors of _woman_ are _woman_, _girl_, _man_, and _mother_.\n",
    "\n",
    "Once you have implemented `get_closest_words`, you will use it to answer analogy questions. For instance, the analogy question for man : king :: woman : queen (if $\\text{man} : \\text{king} \\mathrel{::} \\text{woman} : x$, then what is $x$?) can be answered as follows."
   ]
  },
  {
   "cell_type": "code",
   "execution_count": 12,
   "metadata": {},
   "outputs": [
    {
     "data": {
      "text/plain": [
       "[['king', 'queen', 'daughter', 'prince']]"
      ]
     },
     "execution_count": 12,
     "metadata": {},
     "output_type": "execute_result"
    }
   ],
   "source": [
    "# Find the neighbors of king - man + woman\n",
    "queen = vecs[0:1] - vecs[1:2] + vecs[2:3]\n",
    "get_closest_words(embeddings, queen, k=4)"
   ]
  },
  {
   "cell_type": "markdown",
   "metadata": {},
   "source": [
    "In this instance, we are being a bit more _lenient_ than Mikolov et al. (2013): we will consider the analogy question to have been answered correctly because $\\overrightarrow{\\text{queen}}$ is one of the **top 4 closest** word embeddings to $\\overrightarrow{\\text{king}} - \\overrightarrow{\\text{man}} + \\overrightarrow{\\text{woman}}$, even though Mikolov et al. required it to be **the closest** word embedding (which in case happens to be $\\overrightarrow{\\text{king}}$). \n",
    "\n",
    "**Hints:**\n",
    "* `run_analogy_test` can be implemented in **at most 3 lines of code**.\n",
    "* You can make your code run faster if you don't try to return the closest words in order (though the difference in performance may not be noticeable since we are using a small number of embeddings).\n",
    "\n",
    "### Problem 3d: Write Testing Script (Code, 20 Points)\n",
    "\n",
    "Finally, please implement the function `run_analogy_test`. Your code should run the 3CosAdd test on a given embedding space and testing dataset. The output of your code, illustrated below, should be a dict containing the analogy question accuracy for analogies from each relation type."
   ]
  },
  {
   "cell_type": "code",
   "execution_count": 6,
   "metadata": {},
   "outputs": [
    {
     "data": {
      "text/plain": [
       "{'capital-common-countries': 0.6837944664031621,\n",
       " 'capital-world': 0.5899646330680813,\n",
       " 'currency': 0.08429561200923788,\n",
       " 'city-in-state': 0.08755573571139036,\n",
       " 'family': 0.4762845849802372,\n",
       " 'gram1-adjective-to-adverb': 0.09173387096774194,\n",
       " 'gram2-opposite': 0.08866995073891626,\n",
       " 'gram3-comparative': 0.26876876876876876,\n",
       " 'gram4-superlative': 0.2531194295900178,\n",
       " 'gram5-present-participle': 0.0928030303030303,\n",
       " 'gram6-nationality-adjective': 0.8667917448405253,\n",
       " 'gram7-past-tense': 0.09358974358974359,\n",
       " 'gram8-plural': 0.25900900900900903,\n",
       " 'gram9-plural-verbs': 0.1896551724137931}"
      ]
     },
     "execution_count": 6,
     "metadata": {},
     "output_type": "execute_result"
    }
   ],
   "source": [
    "# Run the analogy test\n",
    "test_data = load_analogies('data/analogies.txt')\n",
    "run_analogy_test(embeddings, test_data, k=1)"
   ]
  },
  {
   "cell_type": "code",
   "execution_count": 19,
   "id": "487f91d0",
   "metadata": {},
   "outputs": [
    {
     "data": {
      "text/plain": [
       "{'capital-common-countries': 506,\n",
       " 'capital-world': 4524,\n",
       " 'currency': 866,\n",
       " 'city-in-state': 2467,\n",
       " 'family': 506,\n",
       " 'gram1-adjective-to-adverb': 992,\n",
       " 'gram2-opposite': 812,\n",
       " 'gram3-comparative': 1332,\n",
       " 'gram4-superlative': 1122,\n",
       " 'gram5-present-participle': 1056,\n",
       " 'gram6-nationality-adjective': 1599,\n",
       " 'gram7-past-tense': 1560,\n",
       " 'gram8-plural': 1332,\n",
       " 'gram9-plural-verbs': 870}"
      ]
     },
     "execution_count": 19,
     "metadata": {},
     "output_type": "execute_result"
    }
   ],
   "source": []
  },
  {
   "cell_type": "code",
   "execution_count": null,
   "id": "fc7fbb18",
   "metadata": {},
   "outputs": [],
   "source": []
  },
  {
   "attachments": {},
   "cell_type": "markdown",
   "metadata": {},
   "source": [
    "**Hint:** `run_analogy_test` can be implemented in **at most 9 lines of code**. The performance of your code may suffer if it is substantially longer than this! \n",
    "\n",
    "## Problem 4: Interpretation of Results (20 Points in Total)\n",
    "\n",
    "In the final part of this assignment, you will use your code to study the three word embedding spaces provided in the assignment's GitHub repository. You may (optionally) wish to write additional code for the following problems, but you do not need to submit it.\n",
    "\n",
    "### Problem 4a: Syntactic vs. Semantic Relation Types (Written, 10 Points)\n",
    "\n",
    "In [Mikolov et al. (2013)](https://arxiv.org/abs/1301.3781), the 14 relation types are grouped into two categories: _semantic_ relation types and _syntactic_ relation types. Please look through the paper and find out which relation types are semantic and which are syntactic.\n",
    "\n",
    "Now, please run the 3CosAdd test with a lenience of `k = 1` on all three embedding spaces (the 50-, 100-, and 200-dimensional embeddings), and then answer the following questions.\n",
    "1. What is the total analogy question accuracy obtained by each embedding space for all analogies belonging belonging to a **semantic** relation type?\n",
    "2. What is the total analogy question accuracy obtained by each embedding space for all analogies belonging belonging to a **syntactic** relation type?\n",
    "3. What is the total analogy question accuracy obtained by each embedding space for **all analogies** in the testing dataset?\n",
    "4. How do your GloVe results compare to the results for the two word2vec models (Skip-Gram and CBOW) reported in Table 4 of Mikolov et al. (2013)? Does the dimensionality of the embedding space have any effect on analogy question accuracy?\n",
    "\n",
    "The only thing you need to submit for this problem is your answers to the above bullet points. For questions 1–3 you are encouraged to report your results in the form of a table such as the following. **Please report all numerical results with 3 significant figures of precision.**\n",
    "\n",
    "| Embedding Space | Semantic | Syntactic | Overall |\n",
    "|-----------------|----------|-----------|---------|\n",
    "| GloVe 50        |          |           |         |\n",
    "| GloVe 100       |          |           |         |\n",
    "| GloVe 200       |          |           |         |"
   ]
  },
  {
   "cell_type": "code",
   "execution_count": 7,
   "id": "33b346ae",
   "metadata": {},
   "outputs": [],
   "source": [
    "def experiment(lenience=1):\n",
    "    return {\n",
    "        f'Glove {size}': run_analogy_test(\n",
    "            embeddings.from_file(f'data/glove_{size}d.txt'), \n",
    "            test_data, k=lenience\n",
    "        ) for size in [50,100,200]\n",
    "    }"
   ]
  },
  {
   "cell_type": "code",
   "execution_count": 8,
   "id": "a9ec8e11",
   "metadata": {},
   "outputs": [],
   "source": [
    "k1 = experiment(lenience=1)\n",
    "k2 = experiment(lenience=2)"
   ]
  },
  {
   "cell_type": "code",
   "execution_count": 40,
   "id": "2516094b",
   "metadata": {},
   "outputs": [],
   "source": [
    "\n",
    "SEMANTIC_COLS = [\n",
    "    'capital-common-countries', \n",
    "    'capital-world',\n",
    "    'currency',\n",
    "    'city-in-state', \n",
    "    'family',\n",
    "]\n",
    "SYNTACTIC_COLS = [\n",
    "    'gram1-adjective-to-adverb',\n",
    "    'gram2-opposite', \n",
    "    'gram3-comparative', \n",
    "    'gram4-superlative',\n",
    "    'gram5-present-participle', \n",
    "    'gram6-nationality-adjective',\n",
    "    'gram7-past-tense', \n",
    "    'gram8-plural', \n",
    "    'gram9-plural-verbs'\n",
    "]\n"
   ]
  },
  {
   "cell_type": "code",
   "execution_count": 51,
   "id": "48e46228",
   "metadata": {},
   "outputs": [
    {
     "data": {
      "text/html": [
       "<div>\n",
       "<style scoped>\n",
       "    .dataframe tbody tr th:only-of-type {\n",
       "        vertical-align: middle;\n",
       "    }\n",
       "\n",
       "    .dataframe tbody tr th {\n",
       "        vertical-align: top;\n",
       "    }\n",
       "\n",
       "    .dataframe thead th {\n",
       "        text-align: right;\n",
       "    }\n",
       "</style>\n",
       "<table border=\"1\" class=\"dataframe\">\n",
       "  <thead>\n",
       "    <tr style=\"text-align: right;\">\n",
       "      <th></th>\n",
       "      <th>Glove 50</th>\n",
       "      <th>Glove 100</th>\n",
       "      <th>Glove 200</th>\n",
       "    </tr>\n",
       "  </thead>\n",
       "  <tbody>\n",
       "    <tr>\n",
       "      <th>capital-common-countries</th>\n",
       "      <td>0.683794</td>\n",
       "      <td>0.790514</td>\n",
       "      <td>0.598814</td>\n",
       "    </tr>\n",
       "    <tr>\n",
       "      <th>capital-world</th>\n",
       "      <td>0.589965</td>\n",
       "      <td>0.654288</td>\n",
       "      <td>0.468170</td>\n",
       "    </tr>\n",
       "    <tr>\n",
       "      <th>currency</th>\n",
       "      <td>0.084296</td>\n",
       "      <td>0.100462</td>\n",
       "      <td>0.085450</td>\n",
       "    </tr>\n",
       "    <tr>\n",
       "      <th>city-in-state</th>\n",
       "      <td>0.087556</td>\n",
       "      <td>0.118768</td>\n",
       "      <td>0.053912</td>\n",
       "    </tr>\n",
       "    <tr>\n",
       "      <th>family</th>\n",
       "      <td>0.476285</td>\n",
       "      <td>0.405138</td>\n",
       "      <td>0.357708</td>\n",
       "    </tr>\n",
       "    <tr>\n",
       "      <th>gram1-adjective-to-adverb</th>\n",
       "      <td>0.091734</td>\n",
       "      <td>0.062500</td>\n",
       "      <td>0.014113</td>\n",
       "    </tr>\n",
       "    <tr>\n",
       "      <th>gram2-opposite</th>\n",
       "      <td>0.088670</td>\n",
       "      <td>0.072660</td>\n",
       "      <td>0.020936</td>\n",
       "    </tr>\n",
       "    <tr>\n",
       "      <th>gram3-comparative</th>\n",
       "      <td>0.268769</td>\n",
       "      <td>0.309309</td>\n",
       "      <td>0.282282</td>\n",
       "    </tr>\n",
       "    <tr>\n",
       "      <th>gram4-superlative</th>\n",
       "      <td>0.253119</td>\n",
       "      <td>0.263815</td>\n",
       "      <td>0.163993</td>\n",
       "    </tr>\n",
       "    <tr>\n",
       "      <th>gram5-present-participle</th>\n",
       "      <td>0.092803</td>\n",
       "      <td>0.134470</td>\n",
       "      <td>0.043561</td>\n",
       "    </tr>\n",
       "    <tr>\n",
       "      <th>gram6-nationality-adjective</th>\n",
       "      <td>0.866792</td>\n",
       "      <td>0.879300</td>\n",
       "      <td>0.867417</td>\n",
       "    </tr>\n",
       "    <tr>\n",
       "      <th>gram7-past-tense</th>\n",
       "      <td>0.093590</td>\n",
       "      <td>0.114103</td>\n",
       "      <td>0.059615</td>\n",
       "    </tr>\n",
       "    <tr>\n",
       "      <th>gram8-plural</th>\n",
       "      <td>0.259009</td>\n",
       "      <td>0.156156</td>\n",
       "      <td>0.048799</td>\n",
       "    </tr>\n",
       "    <tr>\n",
       "      <th>gram9-plural-verbs</th>\n",
       "      <td>0.189655</td>\n",
       "      <td>0.232184</td>\n",
       "      <td>0.157471</td>\n",
       "    </tr>\n",
       "  </tbody>\n",
       "</table>\n",
       "</div>"
      ],
      "text/plain": [
       "                             Glove 50  Glove 100  Glove 200\n",
       "capital-common-countries     0.683794   0.790514   0.598814\n",
       "capital-world                0.589965   0.654288   0.468170\n",
       "currency                     0.084296   0.100462   0.085450\n",
       "city-in-state                0.087556   0.118768   0.053912\n",
       "family                       0.476285   0.405138   0.357708\n",
       "gram1-adjective-to-adverb    0.091734   0.062500   0.014113\n",
       "gram2-opposite               0.088670   0.072660   0.020936\n",
       "gram3-comparative            0.268769   0.309309   0.282282\n",
       "gram4-superlative            0.253119   0.263815   0.163993\n",
       "gram5-present-participle     0.092803   0.134470   0.043561\n",
       "gram6-nationality-adjective  0.866792   0.879300   0.867417\n",
       "gram7-past-tense             0.093590   0.114103   0.059615\n",
       "gram8-plural                 0.259009   0.156156   0.048799\n",
       "gram9-plural-verbs           0.189655   0.232184   0.157471"
      ]
     },
     "execution_count": 51,
     "metadata": {},
     "output_type": "execute_result"
    }
   ],
   "source": [
    "df = pd.DataFrame(k1)\n",
    "\n",
    "df"
   ]
  },
  {
   "cell_type": "code",
   "execution_count": 65,
   "id": "9d31fe83",
   "metadata": {},
   "outputs": [],
   "source": [
    "def compute_overall_results(results):\n",
    "\n",
    "    weights = np.array([len(test_data[x]) for x in test_data.keys()])\n",
    "\n",
    "    df = pd.DataFrame(results)\n",
    "    correct_count_df = df * weights.reshape(-1,1)\n",
    "    semantic_total = sum([len(test_data[x]) for x in SEMANTIC_COLS])\n",
    "    syntactic_total = sum([len(test_data[x]) for x in SYNTACTIC_COLS])\n",
    "    df.loc['semantic',:] =  correct_count_df.loc[SEMANTIC_COLS].sum() / semantic_total\n",
    "    df.loc['syntactic',:] =  correct_count_df.loc[SYNTACTIC_COLS].sum() / syntactic_total\n",
    "    df.loc['overall',:] =  correct_count_df.sum() / (semantic_total + syntactic_total)\n",
    "    return df * 100"
   ]
  },
  {
   "cell_type": "code",
   "execution_count": 60,
   "id": "f822af83",
   "metadata": {},
   "outputs": [
    {
     "data": {
      "text/html": [
       "<div>\n",
       "<style scoped>\n",
       "    .dataframe tbody tr th:only-of-type {\n",
       "        vertical-align: middle;\n",
       "    }\n",
       "\n",
       "    .dataframe tbody tr th {\n",
       "        vertical-align: top;\n",
       "    }\n",
       "\n",
       "    .dataframe thead th {\n",
       "        text-align: right;\n",
       "    }\n",
       "</style>\n",
       "<table border=\"1\" class=\"dataframe\">\n",
       "  <thead>\n",
       "    <tr style=\"text-align: right;\">\n",
       "      <th></th>\n",
       "      <th>Glove 50</th>\n",
       "      <th>Glove 100</th>\n",
       "      <th>Glove 200</th>\n",
       "    </tr>\n",
       "  </thead>\n",
       "  <tbody>\n",
       "    <tr>\n",
       "      <th>capital-common-countries</th>\n",
       "      <td>0.683794</td>\n",
       "      <td>0.790514</td>\n",
       "      <td>0.598814</td>\n",
       "    </tr>\n",
       "    <tr>\n",
       "      <th>capital-world</th>\n",
       "      <td>0.589965</td>\n",
       "      <td>0.654288</td>\n",
       "      <td>0.468170</td>\n",
       "    </tr>\n",
       "    <tr>\n",
       "      <th>currency</th>\n",
       "      <td>0.084296</td>\n",
       "      <td>0.100462</td>\n",
       "      <td>0.085450</td>\n",
       "    </tr>\n",
       "    <tr>\n",
       "      <th>city-in-state</th>\n",
       "      <td>0.087556</td>\n",
       "      <td>0.118768</td>\n",
       "      <td>0.053912</td>\n",
       "    </tr>\n",
       "    <tr>\n",
       "      <th>family</th>\n",
       "      <td>0.476285</td>\n",
       "      <td>0.405138</td>\n",
       "      <td>0.357708</td>\n",
       "    </tr>\n",
       "    <tr>\n",
       "      <th>gram1-adjective-to-adverb</th>\n",
       "      <td>0.091734</td>\n",
       "      <td>0.062500</td>\n",
       "      <td>0.014113</td>\n",
       "    </tr>\n",
       "    <tr>\n",
       "      <th>gram2-opposite</th>\n",
       "      <td>0.088670</td>\n",
       "      <td>0.072660</td>\n",
       "      <td>0.020936</td>\n",
       "    </tr>\n",
       "    <tr>\n",
       "      <th>gram3-comparative</th>\n",
       "      <td>0.268769</td>\n",
       "      <td>0.309309</td>\n",
       "      <td>0.282282</td>\n",
       "    </tr>\n",
       "    <tr>\n",
       "      <th>gram4-superlative</th>\n",
       "      <td>0.253119</td>\n",
       "      <td>0.263815</td>\n",
       "      <td>0.163993</td>\n",
       "    </tr>\n",
       "    <tr>\n",
       "      <th>gram5-present-participle</th>\n",
       "      <td>0.092803</td>\n",
       "      <td>0.134470</td>\n",
       "      <td>0.043561</td>\n",
       "    </tr>\n",
       "    <tr>\n",
       "      <th>gram6-nationality-adjective</th>\n",
       "      <td>0.866792</td>\n",
       "      <td>0.879300</td>\n",
       "      <td>0.867417</td>\n",
       "    </tr>\n",
       "    <tr>\n",
       "      <th>gram7-past-tense</th>\n",
       "      <td>0.093590</td>\n",
       "      <td>0.114103</td>\n",
       "      <td>0.059615</td>\n",
       "    </tr>\n",
       "    <tr>\n",
       "      <th>gram8-plural</th>\n",
       "      <td>0.259009</td>\n",
       "      <td>0.156156</td>\n",
       "      <td>0.048799</td>\n",
       "    </tr>\n",
       "    <tr>\n",
       "      <th>gram9-plural-verbs</th>\n",
       "      <td>0.189655</td>\n",
       "      <td>0.232184</td>\n",
       "      <td>0.157471</td>\n",
       "    </tr>\n",
       "    <tr>\n",
       "      <th>semantic</th>\n",
       "      <td>0.399707</td>\n",
       "      <td>0.444808</td>\n",
       "      <td>0.316721</td>\n",
       "    </tr>\n",
       "    <tr>\n",
       "      <th>syntactic</th>\n",
       "      <td>0.275878</td>\n",
       "      <td>0.277752</td>\n",
       "      <td>0.217237</td>\n",
       "    </tr>\n",
       "    <tr>\n",
       "      <th>overall</th>\n",
       "      <td>0.332071</td>\n",
       "      <td>0.353561</td>\n",
       "      <td>0.262382</td>\n",
       "    </tr>\n",
       "  </tbody>\n",
       "</table>\n",
       "</div>"
      ],
      "text/plain": [
       "                             Glove 50  Glove 100  Glove 200\n",
       "capital-common-countries     0.683794   0.790514   0.598814\n",
       "capital-world                0.589965   0.654288   0.468170\n",
       "currency                     0.084296   0.100462   0.085450\n",
       "city-in-state                0.087556   0.118768   0.053912\n",
       "family                       0.476285   0.405138   0.357708\n",
       "gram1-adjective-to-adverb    0.091734   0.062500   0.014113\n",
       "gram2-opposite               0.088670   0.072660   0.020936\n",
       "gram3-comparative            0.268769   0.309309   0.282282\n",
       "gram4-superlative            0.253119   0.263815   0.163993\n",
       "gram5-present-participle     0.092803   0.134470   0.043561\n",
       "gram6-nationality-adjective  0.866792   0.879300   0.867417\n",
       "gram7-past-tense             0.093590   0.114103   0.059615\n",
       "gram8-plural                 0.259009   0.156156   0.048799\n",
       "gram9-plural-verbs           0.189655   0.232184   0.157471\n",
       "semantic                     0.399707   0.444808   0.316721\n",
       "syntactic                    0.275878   0.277752   0.217237\n",
       "overall                      0.332071   0.353561   0.262382"
      ]
     },
     "execution_count": 60,
     "metadata": {},
     "output_type": "execute_result"
    }
   ],
   "source": [
    "k1_df = compute_overall_results(k1)\n",
    "k1_df"
   ]
  },
  {
   "cell_type": "code",
   "execution_count": 66,
   "id": "0d6fc3ba",
   "metadata": {},
   "outputs": [],
   "source": [
    "import pandas as pd \n",
    "k1_df = compute_overall_results(k1)\n",
    "k2_df = compute_overall_results(k2)"
   ]
  },
  {
   "cell_type": "code",
   "execution_count": 68,
   "id": "f31862b4",
   "metadata": {},
   "outputs": [
    {
     "data": {
      "text/html": [
       "<div>\n",
       "<style scoped>\n",
       "    .dataframe tbody tr th:only-of-type {\n",
       "        vertical-align: middle;\n",
       "    }\n",
       "\n",
       "    .dataframe tbody tr th {\n",
       "        vertical-align: top;\n",
       "    }\n",
       "\n",
       "    .dataframe thead th {\n",
       "        text-align: right;\n",
       "    }\n",
       "</style>\n",
       "<table border=\"1\" class=\"dataframe\">\n",
       "  <thead>\n",
       "    <tr style=\"text-align: right;\">\n",
       "      <th></th>\n",
       "      <th>Glove 50</th>\n",
       "      <th>Glove 100</th>\n",
       "      <th>Glove 200</th>\n",
       "    </tr>\n",
       "  </thead>\n",
       "  <tbody>\n",
       "    <tr>\n",
       "      <th>semantic</th>\n",
       "      <td>40.0</td>\n",
       "      <td>44.5</td>\n",
       "      <td>31.7</td>\n",
       "    </tr>\n",
       "    <tr>\n",
       "      <th>syntactic</th>\n",
       "      <td>27.6</td>\n",
       "      <td>27.8</td>\n",
       "      <td>21.7</td>\n",
       "    </tr>\n",
       "    <tr>\n",
       "      <th>overall</th>\n",
       "      <td>33.2</td>\n",
       "      <td>35.4</td>\n",
       "      <td>26.2</td>\n",
       "    </tr>\n",
       "  </tbody>\n",
       "</table>\n",
       "</div>"
      ],
      "text/plain": [
       "           Glove 50  Glove 100  Glove 200\n",
       "semantic       40.0       44.5       31.7\n",
       "syntactic      27.6       27.8       21.7\n",
       "overall        33.2       35.4       26.2"
      ]
     },
     "execution_count": 68,
     "metadata": {},
     "output_type": "execute_result"
    }
   ],
   "source": [
    "k1_df.loc[['semantic', 'syntactic', 'overall']].round(1)"
   ]
  },
  {
   "cell_type": "code",
   "execution_count": 69,
   "id": "39cbdfec",
   "metadata": {},
   "outputs": [
    {
     "name": "stdout",
     "output_type": "stream",
     "text": [
      "\\begin{tabular}{lrrr}\n",
      "\\toprule\n",
      "{} &  Glove 50 &  Glove 100 &  Glove 200 \\\\\n",
      "\\midrule\n",
      "semantic  &      40.0 &       44.5 &       31.7 \\\\\n",
      "syntactic &      27.6 &       27.8 &       21.7 \\\\\n",
      "overall   &      33.2 &       35.4 &       26.2 \\\\\n",
      "\\bottomrule\n",
      "\\end{tabular}\n",
      "\n"
     ]
    }
   ],
   "source": [
    "lstring1 = k1_df.loc[['semantic', 'syntactic', 'overall']].round(1).to_latex()\n",
    "print(lstring1)"
   ]
  },
  {
   "attachments": {},
   "cell_type": "markdown",
   "id": "5a445b18",
   "metadata": {},
   "source": [
    "**Ans:** embedding size of 100 seems to produce the optimal performance. "
   ]
  },
  {
   "cell_type": "code",
   "execution_count": null,
   "id": "b212082b",
   "metadata": {},
   "outputs": [],
   "source": []
  },
  {
   "attachments": {},
   "cell_type": "markdown",
   "id": "0e2e561c",
   "metadata": {},
   "source": [
    "\n",
    "### Problem 4b: Effect of Lenience (Written, 5 Points)\n",
    "\n",
    "Please repeat Problem 4a using a lenience of `k = 2`. Do the results change? If so, how?\n",
    "\n",
    "**Ans:** matching improves when we increase the leniency, by almost double. When we increase leniency, the performance improves as we increase the embedding size. This might be because as we increase dimensionality, There are a larger number of close neigbhours to each vector.  "
   ]
  },
  {
   "cell_type": "code",
   "execution_count": 70,
   "id": "f8396574",
   "metadata": {},
   "outputs": [
    {
     "data": {
      "text/html": [
       "<div>\n",
       "<style scoped>\n",
       "    .dataframe tbody tr th:only-of-type {\n",
       "        vertical-align: middle;\n",
       "    }\n",
       "\n",
       "    .dataframe tbody tr th {\n",
       "        vertical-align: top;\n",
       "    }\n",
       "\n",
       "    .dataframe thead th {\n",
       "        text-align: right;\n",
       "    }\n",
       "</style>\n",
       "<table border=\"1\" class=\"dataframe\">\n",
       "  <thead>\n",
       "    <tr style=\"text-align: right;\">\n",
       "      <th></th>\n",
       "      <th>Glove 50</th>\n",
       "      <th>Glove 100</th>\n",
       "      <th>Glove 200</th>\n",
       "    </tr>\n",
       "  </thead>\n",
       "  <tbody>\n",
       "    <tr>\n",
       "      <th>semantic</th>\n",
       "      <td>56.6</td>\n",
       "      <td>66.5</td>\n",
       "      <td>70.5</td>\n",
       "    </tr>\n",
       "    <tr>\n",
       "      <th>syntactic</th>\n",
       "      <td>53.6</td>\n",
       "      <td>65.9</td>\n",
       "      <td>67.2</td>\n",
       "    </tr>\n",
       "    <tr>\n",
       "      <th>overall</th>\n",
       "      <td>55.0</td>\n",
       "      <td>66.2</td>\n",
       "      <td>68.7</td>\n",
       "    </tr>\n",
       "  </tbody>\n",
       "</table>\n",
       "</div>"
      ],
      "text/plain": [
       "           Glove 50  Glove 100  Glove 200\n",
       "semantic       56.6       66.5       70.5\n",
       "syntactic      53.6       65.9       67.2\n",
       "overall        55.0       66.2       68.7"
      ]
     },
     "execution_count": 70,
     "metadata": {},
     "output_type": "execute_result"
    }
   ],
   "source": [
    "k2_df.loc[['semantic', 'syntactic', 'overall']].round(1)"
   ]
  },
  {
   "cell_type": "code",
   "execution_count": 71,
   "id": "6149bd9c",
   "metadata": {},
   "outputs": [
    {
     "name": "stdout",
     "output_type": "stream",
     "text": [
      "\\begin{tabular}{lrrr}\n",
      "\\toprule\n",
      "{} &  Glove 50 &  Glove 100 &  Glove 200 \\\\\n",
      "\\midrule\n",
      "semantic  &      56.6 &       66.5 &       70.5 \\\\\n",
      "syntactic &      53.6 &       65.9 &       67.2 \\\\\n",
      "overall   &      55.0 &       66.2 &       68.7 \\\\\n",
      "\\bottomrule\n",
      "\\end{tabular}\n",
      "\n"
     ]
    }
   ],
   "source": [
    "print(k2_df.loc[['semantic', 'syntactic', 'overall']].round(1).to_latex())"
   ]
  },
  {
   "attachments": {},
   "cell_type": "markdown",
   "id": "d2915a2d",
   "metadata": {},
   "source": [
    "### Problem 4c: Qualitative Evaluation (Written, 5 Points)\n",
    "\n",
    "For the final problem, you will replicate Table 8 of Mikolov et al. (2013) by looking at some examples of answers to analogy questions. For each of the three embedding spaces, please answer the following analogy questions. \n",
    "* france : paris :: italy : $x$\n",
    "* france : paris :: japan : $x$\n",
    "* france : paris :: florida : $x$\n",
    "* big : bigger :: small : $x$\n",
    "* big : bigger :: cold : $x$\n",
    "* big : bigger :: quick : $x$\n",
    "\n",
    "You are encouraged to present your answer as a table like the following.\n",
    "\n",
    "| Analogy Question                | Gold Answer  | GloVe 50 | GloVe 100 | GloVe 200 |\n",
    "|---------------------------------|--------------|----------|-----------|-----------|\n",
    "| france : paris :: italy : _x_   | rome         |          |           |           |\n",
    "| france : paris :: japan : _x_   | tokyo        |          |           |           |\n",
    "| france : paris :: florida : _x_ | tallahassee  |          |           |           |\n",
    "| big : bigger :: small : _x_     | smaller      |          |           |           |\n",
    "| big : bigger :: cold : _x_      | colder       |          |           |           |\n",
    "| big : bigger :: quick : _x_     | quicker      |          |           |           |\n",
    "\n",
    "\n",
    "Please comment on your results. How do the different embedding spaces compare to one another? How do they compare to the results reported by Mikolov et al.?\n",
    "\n",
    "\n",
    "## Footnotes\n",
    "\n",
    "<a name=\"cite_note-1\"></a>1. [<sup>^</sup>](#cite_ref-1) This terminology is due to [Drodz et al. (2016)](https://aclanthology.org/C16-1332/); Mikolov et al. (2013) call it the \"vector offset method.\"\n",
    "\n",
    "<a name=\"cite_note-2\"></a>2. [<sup>^</sup>](#cite_ref-2) To make the assignment easier to download, the word embedding files have been truncated to a manageable size. The full word embedding files are available [here](https://nlp.stanford.edu/projects/glove/).\n",
    "\n",
    "<a name=\"cite_note-3\"></a>3. [<sup>^</sup>](#cite_ref-3) Obviously, these line numbers may be inaccurate if you have already started working on Problem 3."
   ]
  },
  {
   "cell_type": "code",
   "execution_count": 14,
   "id": "53a0c113",
   "metadata": {},
   "outputs": [],
   "source": [
    "word_list = [\n",
    "    ['france','paris', 'italy'], \n",
    "    ['france','paris', 'japan'], \n",
    "    ['france','paris', 'florida'], \n",
    "    ['big', 'bigger', 'small'],\n",
    "    ['big', 'bigger', 'cold'],\n",
    "    ['big', 'bigger', 'quick']\n",
    "]\n",
    "predicted = {} \n",
    "for size in [50,100,200]:\n",
    "    embeddings = embeddings.from_file(f'data/glove_{size}d.txt')\n",
    "    vectors = [np.array([-1,1,1]) @ embeddings[w1,w2,w3] for w1,w2,w3 in word_list]\n",
    "    predicted[f'Glove {size}'] = get_closest_words(embeddings, np.array(vectors), k=1)\n"
   ]
  },
  {
   "cell_type": "code",
   "execution_count": 15,
   "id": "772c0573",
   "metadata": {},
   "outputs": [],
   "source": [
    "answers =  pd.DataFrame({\n",
    "    **{\n",
    "        'Analogy Question': [' : '.join(words) for words in word_list],\n",
    "        'Gold Answer': ['rome', 'tokyo', 'tallhassee', 'smaller', 'colder', 'quicker']\n",
    "    },\n",
    "    **{k:v for k,v in predicted.items()}\n",
    "})"
   ]
  },
  {
   "cell_type": "code",
   "execution_count": 16,
   "id": "07def0fc",
   "metadata": {},
   "outputs": [
    {
     "data": {
      "text/html": [
       "<div>\n",
       "<style scoped>\n",
       "    .dataframe tbody tr th:only-of-type {\n",
       "        vertical-align: middle;\n",
       "    }\n",
       "\n",
       "    .dataframe tbody tr th {\n",
       "        vertical-align: top;\n",
       "    }\n",
       "\n",
       "    .dataframe thead th {\n",
       "        text-align: right;\n",
       "    }\n",
       "</style>\n",
       "<table border=\"1\" class=\"dataframe\">\n",
       "  <thead>\n",
       "    <tr style=\"text-align: right;\">\n",
       "      <th></th>\n",
       "      <th>Analogy Question</th>\n",
       "      <th>Gold Answer</th>\n",
       "      <th>Glove 50</th>\n",
       "      <th>Glove 100</th>\n",
       "      <th>Glove 200</th>\n",
       "    </tr>\n",
       "  </thead>\n",
       "  <tbody>\n",
       "    <tr>\n",
       "      <th>0</th>\n",
       "      <td>france : paris : italy</td>\n",
       "      <td>rome</td>\n",
       "      <td>[rome]</td>\n",
       "      <td>[rome]</td>\n",
       "      <td>[rome]</td>\n",
       "    </tr>\n",
       "    <tr>\n",
       "      <th>1</th>\n",
       "      <td>france : paris : japan</td>\n",
       "      <td>tokyo</td>\n",
       "      <td>[tokyo]</td>\n",
       "      <td>[tokyo]</td>\n",
       "      <td>[tokyo]</td>\n",
       "    </tr>\n",
       "    <tr>\n",
       "      <th>2</th>\n",
       "      <td>france : paris : florida</td>\n",
       "      <td>tallhassee</td>\n",
       "      <td>[miami]</td>\n",
       "      <td>[florida]</td>\n",
       "      <td>[florida]</td>\n",
       "    </tr>\n",
       "    <tr>\n",
       "      <th>3</th>\n",
       "      <td>big : bigger : small</td>\n",
       "      <td>smaller</td>\n",
       "      <td>[larger]</td>\n",
       "      <td>[larger]</td>\n",
       "      <td>[smaller]</td>\n",
       "    </tr>\n",
       "    <tr>\n",
       "      <th>4</th>\n",
       "      <td>big : bigger : cold</td>\n",
       "      <td>colder</td>\n",
       "      <td>[cold]</td>\n",
       "      <td>[cold]</td>\n",
       "      <td>[cold]</td>\n",
       "    </tr>\n",
       "    <tr>\n",
       "      <th>5</th>\n",
       "      <td>big : bigger : quick</td>\n",
       "      <td>quicker</td>\n",
       "      <td>[quick]</td>\n",
       "      <td>[quick]</td>\n",
       "      <td>[quick]</td>\n",
       "    </tr>\n",
       "  </tbody>\n",
       "</table>\n",
       "</div>"
      ],
      "text/plain": [
       "           Analogy Question Gold Answer  Glove 50  Glove 100  Glove 200\n",
       "0    france : paris : italy        rome    [rome]     [rome]     [rome]\n",
       "1    france : paris : japan       tokyo   [tokyo]    [tokyo]    [tokyo]\n",
       "2  france : paris : florida  tallhassee   [miami]  [florida]  [florida]\n",
       "3      big : bigger : small     smaller  [larger]   [larger]  [smaller]\n",
       "4       big : bigger : cold      colder    [cold]     [cold]     [cold]\n",
       "5      big : bigger : quick     quicker   [quick]    [quick]    [quick]"
      ]
     },
     "execution_count": 16,
     "metadata": {},
     "output_type": "execute_result"
    }
   ],
   "source": [
    "answers"
   ]
  },
  {
   "cell_type": "code",
   "execution_count": 17,
   "id": "a87ee098",
   "metadata": {},
   "outputs": [
    {
     "name": "stdout",
     "output_type": "stream",
     "text": [
      "\\begin{tabular}{llllll}\n",
      "\\toprule\n",
      "{} &          Analogy Question & Gold Answer &  Glove 50 &  Glove 100 &  Glove 200 \\\\\n",
      "\\midrule\n",
      "0 &    france : paris : italy &        rome &    [rome] &     [rome] &     [rome] \\\\\n",
      "1 &    france : paris : japan &       tokyo &   [tokyo] &    [tokyo] &    [tokyo] \\\\\n",
      "2 &  france : paris : florida &  tallhassee &   [miami] &  [florida] &  [florida] \\\\\n",
      "3 &      big : bigger : small &     smaller &  [larger] &   [larger] &  [smaller] \\\\\n",
      "4 &       big : bigger : cold &      colder &    [cold] &     [cold] &     [cold] \\\\\n",
      "5 &      big : bigger : quick &     quicker &   [quick] &    [quick] &    [quick] \\\\\n",
      "\\bottomrule\n",
      "\\end{tabular}\n",
      "\n"
     ]
    }
   ],
   "source": [
    "print(answers.to_latex())"
   ]
  },
  {
   "attachments": {},
   "cell_type": "markdown",
   "id": "1e0dcaae",
   "metadata": {},
   "source": [
    "**Ans:** The embeddings spaces give the correct answer for the 1st, 2nd semantic. However, when we switch from country-capital to state-capital, the embedding space gives an incorrect answer. Additionally, larger embedding space seems to do better on syntatci examples. However, all embeddings failed to match cold to colder and quick to quicker. "
   ]
  },
  {
   "cell_type": "markdown",
   "id": "63651185",
   "metadata": {},
   "source": []
  }
 ],
 "metadata": {
  "kernelspec": {
   "display_name": "base",
   "language": "python",
   "name": "python3"
  },
  "language_info": {
   "codemirror_mode": {
    "name": "ipython",
    "version": 3
   },
   "file_extension": ".py",
   "mimetype": "text/x-python",
   "name": "python",
   "nbconvert_exporter": "python",
   "pygments_lexer": "ipython3",
   "version": "3.7.4"
  },
  "vscode": {
   "interpreter": {
    "hash": "40d3a090f54c6569ab1632332b64b2c03c39dcf918b08424e98f38b5ae0af88f"
   }
  }
 },
 "nbformat": 4,
 "nbformat_minor": 5
}
